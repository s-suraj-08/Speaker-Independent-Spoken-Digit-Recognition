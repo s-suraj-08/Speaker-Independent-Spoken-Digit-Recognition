{
 "cells": [
  {
   "cell_type": "markdown",
   "id": "454e0124",
   "metadata": {
    "id": "454e0124"
   },
   "source": [
    "# Speaker-Independent Spoken Digit Recognition (xSDR)\n",
    "\n",
    "\n",
    "One of the successful stories of deep neural networks is the proliferation of commercial of automatic speech recognition (ASR) systems. This project aims to explore one application of ML-powered ASR to the problem of spoken digit recognition (SDR). Since digits are widely used as unique identifiers for bank information, social security numbers, post codes, etc, SDR systems can be an efficient alternative to fully-fledged ASR systems since the domain is more predictable than other applications of ASR. \n",
    "\n",
    "In this project, we focus on developing a SDR system in a speaker-independent setting. That is, the speakers in the evaluation set are disjoint from the training set speakers. We do so because we expect real-world ASR systems to generalize to different speakers than those we have data for. Moreover, for many languages that are under-resourced, we have have (limited) annotated speech data from a single speaker, but we would still want the system to be deployed to work on any speaker of that language. We tackle the problem of spoken digit recognition as a sequence classification task. Concretely, the inputs are short audio clips of a specific digit (in the range 0-9), then the goal is to build deep neural network models to classify a short audio clip and predict the digit that was spoken."
   ]
  },
  {
   "cell_type": "markdown",
   "id": "be83711d-f753-44e7-9521-8881623b9521",
   "metadata": {},
   "source": [
    "# Notes\n",
    "\n",
    "## Code Submission\n",
    "\n",
    "You don't necessarily need to complete the code in this Jupyter Notebook, you are free to use another notebook or a python script file, as you would like. You are expected to submit the code by **22.03.2023**.\n",
    "\n",
    "Your code should be clean and well commented. We also expect that if we decide to run it on our system, it should be straighforward to do so. We recommend creating a ```requirements.txt``` file with the names of all the libraries with their versions. If applicable, please mention the python version in a ```README.md``` file, which should also include instructions on how to run your code.\n",
    "\n",
    "As mentioned for the assignments, always remember to cite the code with the links as comments, if you decide to use it from a public repository.\n",
    "\n",
    "## Report Submission\n",
    "\n",
    "With the code, you are also expected to submit a report with a maximum of 4 pages. You should write your report in LaTeX using this template for ACL 2023 [Overleaf Link](https://www.overleaf.com/latex/templates/acl-2023-proceedings-template/qjdgcrdwcnwp). Use this document to fill in any missing information that are not necessarily covered during your presentation for the sake of time in the presentation. While writing your report, we would highly encourgae you to cite the papers behind each tool / library / function that you might use for your experiments. We have also released an example on how to write equations in LaTeX [here](https://piazza.com/class/l9so16qqvk34hu/post/52).\n",
    "\n",
    "You art also expected to submit this report with your code. You should provide the **.tex, .pdf and all image files** zipped with the same naming convention as it was in your assignment(s).\n",
    "\n",
    "## Presentation\n",
    "\n",
    "During the last week of March 2023, i.e. 27.03 -- 31.03, each team will be presenting their works for 15 minutes. We expect equal contribution from each member in delivery and content of the presentation. So roughly 5 minutes for one person, if you have 3 people in your team. There will be 5 minutes for some Q&A. At-least one person from your team should be present to do an in-person presentation, rest of your team could join remotely, if they are not present.\n",
    "\n",
    "## Important Dates\n",
    "\n",
    " - Code & Report Submission: 22.03.2023 (08.00)\n",
    " - Presentation: 27.03.2023 -- 31.03.2023\n",
    " \n",
    " You'll get a precise date and time for your team's presentation at a later time."
   ]
  },
  {
   "cell_type": "markdown",
   "id": "61601679-f2f0-437a-8233-54c5ab0cac17",
   "metadata": {},
   "source": [
    "### Grading\n",
    "\n",
    "In this project, your final grades will be determined as follows:\n",
    "\n",
    " - **30%**: &emsp; Completing all the tasks\n",
    " - **30%**: &emsp; Providing scientific-backings for all the methods used\n",
    " - **20%**: &emsp; Quality of the content of the presentation\n",
    " - **20%**: &emsp; Delivery of the presentation"
   ]
  },
  {
   "cell_type": "code",
   "execution_count": 1,
   "id": "020b704f",
   "metadata": {
    "executionInfo": {
     "elapsed": 3612,
     "status": "ok",
     "timestamp": 1674212543207,
     "user": {
      "displayName": "Hyoseung Kang",
      "userId": "00233629824676120159"
     },
     "user_tz": -60
    },
    "id": "020b704f"
   },
   "outputs": [],
   "source": [
    "%matplotlib inline\n",
    "import numpy as np\n",
    "import scipy, matplotlib.pyplot as plt, IPython.display as ipd\n",
    "import librosa, librosa.display\n",
    "\n",
    "import pandas as pd\n",
    "\n",
    "from sklearn  import preprocessing\n",
    "\n",
    "\n",
    "from collections import defaultdict, Counter\n",
    "\n",
    "# add this to ignore warnings from Librosa\n",
    "import warnings\n",
    "warnings.filterwarnings('ignore')\n",
    "\n",
    "import random"
   ]
  },
  {
   "cell_type": "code",
   "execution_count": 150,
   "id": "2b2719f5",
   "metadata": {
    "executionInfo": {
     "elapsed": 20,
     "status": "ok",
     "timestamp": 1674212543209,
     "user": {
      "displayName": "Hyoseung Kang",
      "userId": "00233629824676120159"
     },
     "user_tz": -60
    },
    "id": "2b2719f5"
   },
   "outputs": [],
   "source": [
    "# for linear models \n",
    "from sklearn.linear_model import SGDClassifier\n",
    "from sklearn.preprocessing import StandardScaler\n",
    "from sklearn.metrics import accuracy_score\n",
    "from sklearn.metrics import plot_confusion_matrix\n",
    "from sklearn.metrics import classification_report\n",
    "from sklearn.metrics import confusion_matrix"
   ]
  },
  {
   "cell_type": "code",
   "execution_count": 151,
   "id": "f70e4098",
   "metadata": {
    "executionInfo": {
     "elapsed": 18,
     "status": "ok",
     "timestamp": 1674212543209,
     "user": {
      "displayName": "Hyoseung Kang",
      "userId": "00233629824676120159"
     },
     "user_tz": -60
    },
    "id": "f70e4098"
   },
   "outputs": [],
   "source": [
    "from sklearn.neural_network import MLPClassifier"
   ]
  },
  {
   "cell_type": "markdown",
   "id": "6a0a0884",
   "metadata": {
    "id": "6a0a0884"
   },
   "source": [
    "## Exploring the Dataset \n",
    "\n",
    "The speech samples are already divied into training, development, and test spilts. The splits are made in such way that evaluation speakers are not present in training split. You should use the splits as they are. \n",
    "\n",
    "**CAUTION:** \n",
    "\n",
    "In this project, you are not allowed to use any external data for this problem (at least for the main three tasks). Exploring the effect of additional datasets in this project can only included as a further step after completing the main requirements with the given data. "
   ]
  },
  {
   "cell_type": "code",
   "execution_count": 152,
   "id": "c40503e1",
   "metadata": {
    "id": "c40503e1"
   },
   "outputs": [],
   "source": [
    "# read tsv file into a dataframe \n",
    "sdr_df = pd.read_csv('SDR_metadata.tsv', sep='\\t', header=0, index_col='Unnamed: 0')"
   ]
  },
  {
   "cell_type": "code",
   "execution_count": 153,
   "id": "b9a087bc",
   "metadata": {
    "executionInfo": {
     "elapsed": 16,
     "status": "aborted",
     "timestamp": 1674212543211,
     "user": {
      "displayName": "Hyoseung Kang",
      "userId": "00233629824676120159"
     },
     "user_tz": -60
    },
    "id": "b9a087bc"
   },
   "outputs": [
    {
     "data": {
      "text/html": [
       "<div>\n",
       "<style scoped>\n",
       "    .dataframe tbody tr th:only-of-type {\n",
       "        vertical-align: middle;\n",
       "    }\n",
       "\n",
       "    .dataframe tbody tr th {\n",
       "        vertical-align: top;\n",
       "    }\n",
       "\n",
       "    .dataframe thead th {\n",
       "        text-align: right;\n",
       "    }\n",
       "</style>\n",
       "<table border=\"1\" class=\"dataframe\">\n",
       "  <thead>\n",
       "    <tr style=\"text-align: right;\">\n",
       "      <th></th>\n",
       "      <th>identifier</th>\n",
       "      <th>speaker</th>\n",
       "      <th>split</th>\n",
       "      <th>label</th>\n",
       "      <th>file</th>\n",
       "    </tr>\n",
       "  </thead>\n",
       "  <tbody>\n",
       "    <tr>\n",
       "      <th>0</th>\n",
       "      <td>5_theo_23</td>\n",
       "      <td>theo</td>\n",
       "      <td>TRAIN</td>\n",
       "      <td>5</td>\n",
       "      <td>speech_data/5_theo_23.wav</td>\n",
       "    </tr>\n",
       "    <tr>\n",
       "      <th>1</th>\n",
       "      <td>2_yweweler_39</td>\n",
       "      <td>yweweler</td>\n",
       "      <td>TEST</td>\n",
       "      <td>2</td>\n",
       "      <td>speech_data/2_yweweler_39.wav</td>\n",
       "    </tr>\n",
       "    <tr>\n",
       "      <th>2</th>\n",
       "      <td>6_yweweler_34</td>\n",
       "      <td>yweweler</td>\n",
       "      <td>DEV</td>\n",
       "      <td>6</td>\n",
       "      <td>speech_data/6_yweweler_34.wav</td>\n",
       "    </tr>\n",
       "    <tr>\n",
       "      <th>3</th>\n",
       "      <td>6_yweweler_16</td>\n",
       "      <td>yweweler</td>\n",
       "      <td>DEV</td>\n",
       "      <td>6</td>\n",
       "      <td>speech_data/6_yweweler_16.wav</td>\n",
       "    </tr>\n",
       "    <tr>\n",
       "      <th>4</th>\n",
       "      <td>9_yweweler_2</td>\n",
       "      <td>yweweler</td>\n",
       "      <td>TEST</td>\n",
       "      <td>9</td>\n",
       "      <td>speech_data/9_yweweler_2.wav</td>\n",
       "    </tr>\n",
       "  </tbody>\n",
       "</table>\n",
       "</div>"
      ],
      "text/plain": [
       "      identifier   speaker  split  label                           file\n",
       "0      5_theo_23      theo  TRAIN      5      speech_data/5_theo_23.wav\n",
       "1  2_yweweler_39  yweweler   TEST      2  speech_data/2_yweweler_39.wav\n",
       "2  6_yweweler_34  yweweler    DEV      6  speech_data/6_yweweler_34.wav\n",
       "3  6_yweweler_16  yweweler    DEV      6  speech_data/6_yweweler_16.wav\n",
       "4   9_yweweler_2  yweweler   TEST      9   speech_data/9_yweweler_2.wav"
      ]
     },
     "execution_count": 153,
     "metadata": {},
     "output_type": "execute_result"
    }
   ],
   "source": [
    "sdr_df.head()"
   ]
  },
  {
   "cell_type": "code",
   "execution_count": 154,
   "id": "4c34786a",
   "metadata": {
    "executionInfo": {
     "elapsed": 17,
     "status": "aborted",
     "timestamp": 1674212543212,
     "user": {
      "displayName": "Hyoseung Kang",
      "userId": "00233629824676120159"
     },
     "user_tz": -60
    },
    "id": "4c34786a"
   },
   "outputs": [
    {
     "data": {
      "text/plain": [
       "{'george', 'jackson', 'lucas', 'nicolas', 'theo', 'yweweler'}"
      ]
     },
     "execution_count": 154,
     "metadata": {},
     "output_type": "execute_result"
    }
   ],
   "source": [
    "set(sdr_df.speaker.values)"
   ]
  },
  {
   "cell_type": "code",
   "execution_count": 155,
   "id": "155ea375",
   "metadata": {
    "executionInfo": {
     "elapsed": 17,
     "status": "aborted",
     "timestamp": 1674212543213,
     "user": {
      "displayName": "Hyoseung Kang",
      "userId": "00233629824676120159"
     },
     "user_tz": -60
    },
    "id": "155ea375"
   },
   "outputs": [
    {
     "data": {
      "text/html": [
       "<div>\n",
       "<style scoped>\n",
       "    .dataframe tbody tr th:only-of-type {\n",
       "        vertical-align: middle;\n",
       "    }\n",
       "\n",
       "    .dataframe tbody tr th {\n",
       "        vertical-align: top;\n",
       "    }\n",
       "\n",
       "    .dataframe thead th {\n",
       "        text-align: right;\n",
       "    }\n",
       "</style>\n",
       "<table border=\"1\" class=\"dataframe\">\n",
       "  <thead>\n",
       "    <tr style=\"text-align: right;\">\n",
       "      <th></th>\n",
       "      <th>identifier</th>\n",
       "      <th>speaker</th>\n",
       "      <th>split</th>\n",
       "      <th>label</th>\n",
       "      <th>file</th>\n",
       "    </tr>\n",
       "  </thead>\n",
       "  <tbody>\n",
       "    <tr>\n",
       "      <th>700</th>\n",
       "      <td>7_theo_0</td>\n",
       "      <td>theo</td>\n",
       "      <td>TRAIN</td>\n",
       "      <td>7</td>\n",
       "      <td>speech_data/7_theo_0.wav</td>\n",
       "    </tr>\n",
       "  </tbody>\n",
       "</table>\n",
       "</div>"
      ],
      "text/plain": [
       "    identifier speaker  split  label                      file\n",
       "700   7_theo_0    theo  TRAIN      7  speech_data/7_theo_0.wav"
      ]
     },
     "execution_count": 155,
     "metadata": {},
     "output_type": "execute_result"
    }
   ],
   "source": [
    "# explore one sample: 7_theo_0\n",
    "sdr_df.loc[sdr_df['identifier'] == '7_theo_0']"
   ]
  },
  {
   "cell_type": "code",
   "execution_count": 156,
   "id": "e03e0920",
   "metadata": {
    "executionInfo": {
     "elapsed": 18,
     "status": "aborted",
     "timestamp": 1674212543214,
     "user": {
      "displayName": "Hyoseung Kang",
      "userId": "00233629824676120159"
     },
     "user_tz": -60
    },
    "id": "e03e0920"
   },
   "outputs": [],
   "source": [
    "sample_wav_file = sdr_df.loc[sdr_df['identifier'] == '7_theo_0'].file[700]"
   ]
  },
  {
   "cell_type": "markdown",
   "id": "6ab5f7e7",
   "metadata": {
    "id": "6ab5f7e7"
   },
   "source": [
    "## The Speech Waveform\n",
    "\n",
    "The acoustic realization of speech segment can be (digitally) viewed as a time-variant wavform $\\mathbf{S} \\in \\mathbb{R}^{n}$. Here, $n$ depends on both the duration of the speech segment and the sampling rate of the continous speech singal. Let's check out one sample from the data set. "
   ]
  },
  {
   "cell_type": "code",
   "execution_count": 157,
   "id": "ac93353b",
   "metadata": {
    "executionInfo": {
     "elapsed": 18,
     "status": "aborted",
     "timestamp": 1674212543214,
     "user": {
      "displayName": "Hyoseung Kang",
      "userId": "00233629824676120159"
     },
     "user_tz": -60
    },
    "id": "ac93353b"
   },
   "outputs": [
    {
     "data": {
      "text/html": [
       "\n",
       "                <audio  controls=\"controls\" >\n",
       "                    <source src=\"data:audio/wav;base64,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\" type=\"audio/wav\" />\n",
       "                    Your browser does not support the audio element.\n",
       "                </audio>\n",
       "              "
      ],
      "text/plain": [
       "<IPython.lib.display.Audio object>"
      ]
     },
     "execution_count": 157,
     "metadata": {},
     "output_type": "execute_result"
    }
   ],
   "source": [
    "# play and listen to a sample \n",
    "SAMPLING_RATE = 8000 # This value is determined by the wav file, DO NOT CHANGE\n",
    "\n",
    "x, sr = librosa.load(sample_wav_file, sr=SAMPLING_RATE) #, \n",
    "ipd.Audio(x, rate=sr)"
   ]
  },
  {
   "cell_type": "code",
   "execution_count": 158,
   "id": "b7438910",
   "metadata": {
    "executionInfo": {
     "elapsed": 19,
     "status": "aborted",
     "timestamp": 1674212543215,
     "user": {
      "displayName": "Hyoseung Kang",
      "userId": "00233629824676120159"
     },
     "user_tz": -60
    },
    "id": "b7438910"
   },
   "outputs": [
    {
     "data": {
      "image/png": "[encoded data removed]",
      "text/plain": [
       "<Figure size 720x144 with 1 Axes>"
      ]
     },
     "metadata": {
      "needs_background": "light"
     },
     "output_type": "display_data"
    }
   ],
   "source": [
    "# plot as a waveform \n",
    "fig, ax = plt.subplots(figsize=(10, 2), sharex=True)\n",
    "\n",
    "img = librosa.display.waveshow(y=x, sr=sr, alpha=0.75, x_axis='time', color='blue')\n",
    "\n",
    "ax.set(title='Amplitude waveform')\n",
    "ax.set_ylabel('Amplitude')\n",
    "ax.label_outer()"
   ]
  },
  {
   "cell_type": "code",
   "execution_count": 159,
   "id": "3c4297e5",
   "metadata": {
    "executionInfo": {
     "elapsed": 20,
     "status": "aborted",
     "timestamp": 1674212543216,
     "user": {
      "displayName": "Hyoseung Kang",
      "userId": "00233629824676120159"
     },
     "user_tz": -60
    },
    "id": "3c4297e5"
   },
   "outputs": [
    {
     "data": {
      "text/plain": [
       "428.5"
      ]
     },
     "execution_count": 159,
     "metadata": {},
     "output_type": "execute_result"
    }
   ],
   "source": [
    "# sample duration in milliseconds\n",
    "(1000*len(x))/SAMPLING_RATE"
   ]
  },
  {
   "cell_type": "markdown",
   "id": "3df44120",
   "metadata": {
    "id": "3df44120"
   },
   "source": [
    "In the cell above, you can see the temporal duration of the audio is 428.5 milliseconds. For digits in the range 0-9, the duration of the speech segment should be around 0.5 seconds with reasonable variation depending on speech rate (i.e., how fast the speaker speaks). "
   ]
  },
  {
   "cell_type": "markdown",
   "id": "d2a0c08e",
   "metadata": {
    "id": "d2a0c08e"
   },
   "source": [
    "## The Speech Signal Representation - Mel Spectrograms"
   ]
  },
  {
   "cell_type": "markdown",
   "id": "6370d9c2",
   "metadata": {
    "id": "6370d9c2"
   },
   "source": [
    "Humans can recognize and differentiate different speech sounds based on the frequency characteristics of the sounds. For machine learning applications, human speech is represented using spectro-temporal features in the [Mel-scale](https://en.wikipedia.org/wiki/Mel_scale) extracted from the speech sample. Mel-scale features are inspired by human speech perception and auditory processing whereby the human ear has difference sensitivity (or resolution) in differet frequency bandes. That is, the human ear can better recognize differences in in lower range frequences, while higher range frequences have a lower resolution. The Mel-scale is linear for frequencies in the range (0-1kHz), and logarithmic for frequencies above 1kHz.\n",
    "\n",
    "In the spectro-temporal representation of speech, a speech sample can be seen as a sequence of $T$ spectral vectors as $\\mathbf{X} = (\\mathbf{x}^1, \\mathbf{x}^2, \\dots, \\mathbf{x}^T)$. Each spectral vector $\\mathbf{x}^t \\in \\mathbb{R}^{k}$ at time-step $t$ is extracted from a short speech segment (~25 milliseconds) with the assumption that the signal is time-invariant in this small time window. Here, $k$ is the number of frequency bands in the [spectrogram](https://en.wikipedia.org/wiki/Spectrogram) and this is a parameter of the feature extraction pipeline. The representation is based on the Fourier transform to convert the temporal signal into the frequency domain. \n",
    "\n",
    "In automatic speech recognition (ASR) research and applications, spectral vectors are usually referred to as \"acoustic frames\". Morover, adjacent frames are extracted with some overlap between them, usually ~10 milliseconds. "
   ]
  },
  {
   "cell_type": "code",
   "execution_count": 160,
   "id": "ef41492d",
   "metadata": {
    "executionInfo": {
     "elapsed": 20,
     "status": "aborted",
     "timestamp": 1674212543217,
     "user": {
      "displayName": "Hyoseung Kang",
      "userId": "00233629824676120159"
     },
     "user_tz": -60
    },
    "id": "ef41492d"
   },
   "outputs": [],
   "source": [
    "def extract_melspectrogram(signal, sr, num_mels):\n",
    "    \"\"\"\n",
    "    Given a time series speech signal (.wav), sampling rate (sr), \n",
    "    and the number of mel coefficients, return a mel-scaled \n",
    "    representation of the signal as numpy array.\n",
    "    \"\"\"\n",
    "    \n",
    "    mel_features = librosa.feature.melspectrogram(y=signal,\n",
    "        sr=sr,\n",
    "        n_fft=200, # with sampling rate = 8000, this corresponds to 25 ms\n",
    "        hop_length=80, # with sampling rate = 8000, this corresponds to 10 ms\n",
    "        n_mels=num_mels, # number of frequency bins, use either 13 or 39\n",
    "        fmin=50, # min frequency threshold\n",
    "        fmax=4000 # max frequency threshold, set to SAMPLING_RATE/2\n",
    "    )\n",
    "    \n",
    "    # for numerical stability added this line\n",
    "    mel_features = np.where(mel_features == 0, np.finfo(float).eps, mel_features)\n",
    "\n",
    "    # 20 * log10 to convert to log scale\n",
    "    log_mel_features = 20*np.log10(mel_features)\n",
    "\n",
    "    # feature scaling\n",
    "    scaled_log_mel_features = preprocessing.scale(log_mel_features, axis=1)\n",
    "    \n",
    "    return scaled_log_mel_features"
   ]
  },
  {
   "cell_type": "code",
   "execution_count": 161,
   "id": "3600d78e",
   "metadata": {
    "executionInfo": {
     "elapsed": 21,
     "status": "aborted",
     "timestamp": 1674212543218,
     "user": {
      "displayName": "Hyoseung Kang",
      "userId": "00233629824676120159"
     },
     "user_tz": -60
    },
    "id": "3600d78e"
   },
   "outputs": [
    {
     "data": {
      "text/plain": [
       "(13, 43)"
      ]
     },
     "execution_count": 161,
     "metadata": {},
     "output_type": "execute_result"
    }
   ],
   "source": [
    "melspectrogram = extract_melspectrogram(x, sr, num_mels=13)\n",
    "\n",
    "melspectrogram.shape"
   ]
  },
  {
   "cell_type": "markdown",
   "id": "7ae0a639",
   "metadata": {
    "id": "7ae0a639"
   },
   "source": [
    "Note that the shape of the array (K x T) represents the number of frequency bands (K) and the number of spectral vectors in this representation (here, K=13, T=43). K is a hyperparameter and the recommended values in ASR research are (13, 39, 81, etc). Here, we fix K = 13. On the other hand, T varies from sample to sample depending on the duration of the sample.  "
   ]
  },
  {
   "cell_type": "code",
   "execution_count": 162,
   "id": "f17e8976",
   "metadata": {
    "executionInfo": {
     "elapsed": 22,
     "status": "aborted",
     "timestamp": 1674212543219,
     "user": {
      "displayName": "Hyoseung Kang",
      "userId": "00233629824676120159"
     },
     "user_tz": -60
    },
    "id": "f17e8976"
   },
   "outputs": [
    {
     "data": {
      "image/png": "[encoded data removed]",
      "text/plain": [
       "<Figure size 720x144 with 1 Axes>"
      ]
     },
     "metadata": {
      "needs_background": "light"
     },
     "output_type": "display_data"
    }
   ],
   "source": [
    "# plot and view the spectrogram\n",
    "\n",
    "fig, ax = plt.subplots(figsize=(10, 2), sharex=True)\n",
    "\n",
    "img = librosa.display.specshow(\n",
    "    melspectrogram, \n",
    "    sr=sr, \n",
    "    x_axis='time', \n",
    "    y_axis='mel', \n",
    "    cmap='viridis', \n",
    "    fmax=4000, \n",
    "    hop_length=80\n",
    ")\n",
    "\n",
    "ax.set(title='Log-frequency power spectrogram')\n",
    "\n",
    "ax.label_outer()"
   ]
  },
  {
   "cell_type": "markdown",
   "id": "e6c872b6",
   "metadata": {
    "id": "e6c872b6"
   },
   "source": [
    "As you can see above from the figure, the spectrogram representation can be viewed as a matrix $\\mathbf{X} \\in \\mathbb{R}^{T} \\times \\mathbb{R}^{k}$.  "
   ]
  },
  {
   "cell_type": "markdown",
   "id": "d5392b92",
   "metadata": {
    "id": "d5392b92"
   },
   "source": [
    "## Task I\n",
    "1. One problem with the spectrogram as a speech feature represetation is that different speech samples would have dfferent durations due to inherent speech variability (e.g., speech rate, speaker dialect, etc). That is, the $T$ in the $(T \\times k)$-dimensional representation would be different for each sample. Therefore, for the baseline model, we will implement a method to have a fixed-size representation for all speech samples. Write a function downsample_spectrogram(X, N) that takes as input a spectrogram $\\mathbf{X} \\in \\mathbb{R}^{T \\times k}$ and a parameter N <= 25. The function should (1) make N equally-sized splits of S across the time-axis, (2) apply a pooling technique (e.g., mean pooling) to each split across the frequency axis to obtain an array that represents a downsampled version of the spectrogram $\\mathbf{X}' \\in \\mathbb{R}^{N \\times k}$, and (3) re-arange $\\mathbf{X}'$ as a vector $\\mathbf{v} \\in \\mathbb{R}^{Nk}$.    \n",
    "\n",
    "2. Using the downsample_spectrogram(X, N) function, transform all the speech samples into vectors $\\mathbf{v} \\in \\mathbb{R}^{Nk}$. \n",
    "\n",
    "3. Given the speaker-based train/dev/test spilts in the SDR_metadata.tsv, fit a linear model on the training samples. That is, your model should be build on data from 4 speakers {'nicolas', 'theo' , 'jackson',  'george'}. Hint: you can experiment with a few model alternatives in the SGDClassifier module in scikit-learn. \n",
    "\n",
    "4. Evaluate you model on the dev and test splits. Use accuracy as an evaluation metric. Analyze the model performance using a [confusion matrix](https://en.wikipedia.org/wiki/Confusion_matrix) of the all possible labels (0-9), Analyze [precision, recall](https://en.wikipedia.org/wiki/Precision_and_recall), [F1-score](https://en.wikipedia.org/wiki/F-score) for each label. Report your observation."
   ]
  },
  {
   "cell_type": "code",
   "execution_count": 163,
   "id": "423a3e64",
   "metadata": {
    "executionInfo": {
     "elapsed": 23,
     "status": "aborted",
     "timestamp": 1674212543220,
     "user": {
      "displayName": "Hyoseung Kang",
      "userId": "00233629824676120159"
     },
     "user_tz": -60
    },
    "id": "423a3e64"
   },
   "outputs": [],
   "source": [
    "def downsample_spectrogram(X, N):\n",
    "    \"\"\"\n",
    "    Given a spectrogram of an arbitrary length/duration (X ∈ K x T), \n",
    "    return a downsampled version of the spectrogram v ∈ K * N\n",
    "    \"\"\"\n",
    "    frame_len = X.shape[1]\n",
    "    \n",
    "    x = np.linspace(0, 1, frame_len)\n",
    "    y = X\n",
    "\n",
    "    f = scipy.interpolate.interp1d(x, y, kind='linear', axis=1)\n",
    "    \n",
    "    query_x = np.linspace(0, 1, N)\n",
    "    return f(query_x)"
   ]
  },
  {
   "cell_type": "code",
   "execution_count": 164,
   "id": "870c01af",
   "metadata": {},
   "outputs": [],
   "source": [
    "# #test for downsample\n",
    "# a = np.random.randn(3, 6)\n",
    "# print(a)\n",
    "# print(\"----------\")\n",
    "# print(downsample_spectrogram( a, 3))"
   ]
  },
  {
   "cell_type": "markdown",
   "id": "1bbe63ed",
   "metadata": {
    "id": "1bbe63ed"
   },
   "source": [
    "## Baseline Model"
   ]
  },
  {
   "cell_type": "code",
   "execution_count": 299,
   "id": "e31505c6",
   "metadata": {},
   "outputs": [],
   "source": [
    "def create_dataset(data):\n",
    "    down_N = 25\n",
    "    Num_els = 13\n",
    "    #iterate through all files and downsample\n",
    "    for i in range(len(data)):\n",
    "        #get the signal and extract mel\n",
    "        x, sr = librosa.load(data.iloc[i][\"file\"], sr=SAMPLING_RATE)\n",
    "        melspectrogram = extract_melspectrogram(x, sr, num_mels=Num_els)\n",
    "\n",
    "        #handle cases with less than N by padding\n",
    "        if(melspectrogram.shape[1] < down_N):\n",
    "            #need to pad, get padding width\n",
    "            pad_width = down_N - melspectrogram.shape[1]\n",
    "            if(pad_width%2==0):\n",
    "                left_pad = pad_width//2\n",
    "                right_pad = pad_width//2\n",
    "            else:\n",
    "                left_pad = pad_width//2 + 1 \n",
    "                right_pad = pad_width//2\n",
    "\n",
    "            #perform padding\n",
    "            melspectrogram = np.pad( melspectrogram, ((0,0), (left_pad,right_pad)), mode='symmetric')\n",
    "\n",
    "        #downsample the mel spectrogram\n",
    "        downsample_mel = downsample_spectrogram(melspectrogram, down_N)\n",
    "        downsample_mel = downsample_mel.flatten()\n",
    "        downsample_mel = np.expand_dims(downsample_mel, axis=0)\n",
    "        \n",
    "        if i==0:\n",
    "            inputs = downsample_mel\n",
    "            labels = data.iloc[i][\"label\"]\n",
    "        else:\n",
    "            inputs = np.concatenate( (inputs, downsample_mel) )\n",
    "            labels = np.append(labels, data.iloc[i][\"label\"])\n",
    "        \n",
    "    return (inputs, labels)"
   ]
  },
  {
   "cell_type": "code",
   "execution_count": null,
   "id": "b36bccdd",
   "metadata": {},
   "outputs": [],
   "source": []
  },
  {
   "cell_type": "code",
   "execution_count": 300,
   "id": "aa0827ed",
   "metadata": {},
   "outputs": [],
   "source": [
    "# prepare data and split \n",
    "train_filt = (sdr_df[\"split\"] == \"TRAIN\")\n",
    "dev_filt = (sdr_df[\"split\"] == \"DEV\")\n",
    "test_filt = (sdr_df[\"split\"] == \"TEST\")\n",
    "\n",
    "#datasets\n",
    "X_train, y_train = create_dataset(sdr_df[train_filt])\n",
    "X_dev, y_dev = create_dataset(sdr_df[dev_filt])\n",
    "X_test, y_test = create_dataset(sdr_df[test_filt])"
   ]
  },
  {
   "cell_type": "code",
   "execution_count": 167,
   "id": "7fd61b4c",
   "metadata": {},
   "outputs": [],
   "source": [
    "from sklearn.pipeline import make_pipeline\n",
    "from sklearn.linear_model import LogisticRegression"
   ]
  },
  {
   "cell_type": "code",
   "execution_count": 168,
   "id": "bbe1224e",
   "metadata": {},
   "outputs": [],
   "source": [
    "def fit_(loss, data, label, alpha=0.0001, classifier='sgd', normalise=False):\n",
    "    if classifier=='sgd':\n",
    "        lin_clf = SGDClassifier(loss=loss, alpha=alpha, tol=1e-5, verbose=1)\n",
    "    elif classifier =='logistic':\n",
    "        lin_clf = LogisticRegression(penalty='elasticnet', C=alpha, tol=1e-5, solver='saga', l1_ratio=0.2, verbose=1)\n",
    "    else:\n",
    "        raise NotImplemented\n",
    "    \n",
    "    if normalise:\n",
    "        clf = make_pipeline(StandardScaler(), lin_clf)\n",
    "    else:\n",
    "        clf = make_pipeline(lin_clf)\n",
    "    \n",
    "    return clf"
   ]
  },
  {
   "cell_type": "code",
   "execution_count": 169,
   "id": "1c625a2b",
   "metadata": {},
   "outputs": [],
   "source": [
    "def predict_(model, data, label, dttype):\n",
    "    pred = model.predict(data)\n",
    "    acc = accuracy_score(label, pred)\n",
    "    \n",
    "    print(f\"{dttype} accuracy is {acc*100:.4f}%\")\n",
    "    return acc"
   ]
  },
  {
   "cell_type": "code",
   "execution_count": 170,
   "id": "87204f51",
   "metadata": {},
   "outputs": [
    {
     "ename": "NotFittedError",
     "evalue": "This SGDClassifier instance is not fitted yet. Call 'fit' with appropriate arguments before using this estimator.",
     "output_type": "error",
     "traceback": [
      "\u001b[1;31m---------------------------------------------------------------------------\u001b[0m",
      "\u001b[1;31mNotFittedError\u001b[0m                            Traceback (most recent call last)",
      "\u001b[1;32m<ipython-input-170-ff6a9662df25>\u001b[0m in \u001b[0;36m<module>\u001b[1;34m\u001b[0m\n\u001b[0;32m      1\u001b[0m \u001b[1;31m# train a linear model - sgd\u001b[0m\u001b[1;33m\u001b[0m\u001b[1;33m\u001b[0m\u001b[1;33m\u001b[0m\u001b[0m\n\u001b[0;32m      2\u001b[0m \u001b[0msvm_hinge\u001b[0m \u001b[1;33m=\u001b[0m \u001b[0mfit_\u001b[0m\u001b[1;33m(\u001b[0m\u001b[1;34m\"hinge\"\u001b[0m\u001b[1;33m,\u001b[0m \u001b[0mX_train\u001b[0m\u001b[1;33m,\u001b[0m \u001b[0my_train\u001b[0m\u001b[1;33m,\u001b[0m \u001b[0malpha\u001b[0m\u001b[1;33m=\u001b[0m\u001b[1;36m0.1\u001b[0m\u001b[1;33m,\u001b[0m \u001b[0mclassifier\u001b[0m\u001b[1;33m=\u001b[0m\u001b[1;34m'sgd'\u001b[0m\u001b[1;33m,\u001b[0m \u001b[0mnormalise\u001b[0m\u001b[1;33m=\u001b[0m\u001b[1;32mFalse\u001b[0m\u001b[1;33m)\u001b[0m             \u001b[1;31m# log 0.03/hinge 0.1\u001b[0m\u001b[1;33m\u001b[0m\u001b[1;33m\u001b[0m\u001b[0m\n\u001b[1;32m----> 3\u001b[1;33m \u001b[0mtrain_acc\u001b[0m \u001b[1;33m=\u001b[0m \u001b[0mpredict_\u001b[0m\u001b[1;33m(\u001b[0m\u001b[0msvm_hinge\u001b[0m\u001b[1;33m,\u001b[0m \u001b[0mX_train\u001b[0m\u001b[1;33m,\u001b[0m \u001b[0my_train\u001b[0m\u001b[1;33m,\u001b[0m\u001b[1;34m\"Train\"\u001b[0m\u001b[1;33m)\u001b[0m             \u001b[1;31m# normalisation was surprisingly not that useful\u001b[0m\u001b[1;33m\u001b[0m\u001b[1;33m\u001b[0m\u001b[0m\n\u001b[0m\u001b[0;32m      4\u001b[0m                                                                       \u001b[1;31m# most data features have similar range\u001b[0m\u001b[1;33m\u001b[0m\u001b[1;33m\u001b[0m\u001b[1;33m\u001b[0m\u001b[0m\n\u001b[0;32m      5\u001b[0m \u001b[0mtest_acc\u001b[0m \u001b[1;33m=\u001b[0m \u001b[0mpredict_\u001b[0m\u001b[1;33m(\u001b[0m\u001b[0msvm_hinge\u001b[0m\u001b[1;33m,\u001b[0m \u001b[0mX_dev\u001b[0m\u001b[1;33m,\u001b[0m \u001b[0my_dev\u001b[0m\u001b[1;33m,\u001b[0m\u001b[1;34m\"Dev\"\u001b[0m\u001b[1;33m)\u001b[0m\u001b[1;33m\u001b[0m\u001b[1;33m\u001b[0m\u001b[0m\n",
      "\u001b[1;32m<ipython-input-169-8b51f1aae754>\u001b[0m in \u001b[0;36mpredict_\u001b[1;34m(model, data, label, dttype)\u001b[0m\n\u001b[0;32m      1\u001b[0m \u001b[1;32mdef\u001b[0m \u001b[0mpredict_\u001b[0m\u001b[1;33m(\u001b[0m\u001b[0mmodel\u001b[0m\u001b[1;33m,\u001b[0m \u001b[0mdata\u001b[0m\u001b[1;33m,\u001b[0m \u001b[0mlabel\u001b[0m\u001b[1;33m,\u001b[0m \u001b[0mdttype\u001b[0m\u001b[1;33m)\u001b[0m\u001b[1;33m:\u001b[0m\u001b[1;33m\u001b[0m\u001b[1;33m\u001b[0m\u001b[0m\n\u001b[1;32m----> 2\u001b[1;33m     \u001b[0mpred\u001b[0m \u001b[1;33m=\u001b[0m \u001b[0mmodel\u001b[0m\u001b[1;33m.\u001b[0m\u001b[0mpredict\u001b[0m\u001b[1;33m(\u001b[0m\u001b[0mdata\u001b[0m\u001b[1;33m)\u001b[0m\u001b[1;33m\u001b[0m\u001b[1;33m\u001b[0m\u001b[0m\n\u001b[0m\u001b[0;32m      3\u001b[0m     \u001b[0macc\u001b[0m \u001b[1;33m=\u001b[0m \u001b[0maccuracy_score\u001b[0m\u001b[1;33m(\u001b[0m\u001b[0mlabel\u001b[0m\u001b[1;33m,\u001b[0m \u001b[0mpred\u001b[0m\u001b[1;33m)\u001b[0m\u001b[1;33m\u001b[0m\u001b[1;33m\u001b[0m\u001b[0m\n\u001b[0;32m      4\u001b[0m \u001b[1;33m\u001b[0m\u001b[0m\n\u001b[0;32m      5\u001b[0m     \u001b[0mprint\u001b[0m\u001b[1;33m(\u001b[0m\u001b[1;34mf\"{dttype} accuracy is {acc*100:.4f}%\"\u001b[0m\u001b[1;33m)\u001b[0m\u001b[1;33m\u001b[0m\u001b[1;33m\u001b[0m\u001b[0m\n",
      "\u001b[1;32m~\\AppData\\Local\\Programs\\Python\\Python39\\lib\\site-packages\\sklearn\\utils\\metaestimators.py\u001b[0m in \u001b[0;36m<lambda>\u001b[1;34m(*args, **kwargs)\u001b[0m\n\u001b[0;32m    111\u001b[0m \u001b[1;33m\u001b[0m\u001b[0m\n\u001b[0;32m    112\u001b[0m             \u001b[1;31m# lambda, but not partial, allows help() to work with update_wrapper\u001b[0m\u001b[1;33m\u001b[0m\u001b[1;33m\u001b[0m\u001b[1;33m\u001b[0m\u001b[0m\n\u001b[1;32m--> 113\u001b[1;33m             \u001b[0mout\u001b[0m \u001b[1;33m=\u001b[0m \u001b[1;32mlambda\u001b[0m \u001b[1;33m*\u001b[0m\u001b[0margs\u001b[0m\u001b[1;33m,\u001b[0m \u001b[1;33m**\u001b[0m\u001b[0mkwargs\u001b[0m\u001b[1;33m:\u001b[0m \u001b[0mself\u001b[0m\u001b[1;33m.\u001b[0m\u001b[0mfn\u001b[0m\u001b[1;33m(\u001b[0m\u001b[0mobj\u001b[0m\u001b[1;33m,\u001b[0m \u001b[1;33m*\u001b[0m\u001b[0margs\u001b[0m\u001b[1;33m,\u001b[0m \u001b[1;33m**\u001b[0m\u001b[0mkwargs\u001b[0m\u001b[1;33m)\u001b[0m  \u001b[1;31m# noqa\u001b[0m\u001b[1;33m\u001b[0m\u001b[1;33m\u001b[0m\u001b[0m\n\u001b[0m\u001b[0;32m    114\u001b[0m         \u001b[1;32melse\u001b[0m\u001b[1;33m:\u001b[0m\u001b[1;33m\u001b[0m\u001b[1;33m\u001b[0m\u001b[0m\n\u001b[0;32m    115\u001b[0m \u001b[1;33m\u001b[0m\u001b[0m\n",
      "\u001b[1;32m~\\AppData\\Local\\Programs\\Python\\Python39\\lib\\site-packages\\sklearn\\pipeline.py\u001b[0m in \u001b[0;36mpredict\u001b[1;34m(self, X, **predict_params)\u001b[0m\n\u001b[0;32m    468\u001b[0m         \u001b[1;32mfor\u001b[0m \u001b[0m_\u001b[0m\u001b[1;33m,\u001b[0m \u001b[0mname\u001b[0m\u001b[1;33m,\u001b[0m \u001b[0mtransform\u001b[0m \u001b[1;32min\u001b[0m \u001b[0mself\u001b[0m\u001b[1;33m.\u001b[0m\u001b[0m_iter\u001b[0m\u001b[1;33m(\u001b[0m\u001b[0mwith_final\u001b[0m\u001b[1;33m=\u001b[0m\u001b[1;32mFalse\u001b[0m\u001b[1;33m)\u001b[0m\u001b[1;33m:\u001b[0m\u001b[1;33m\u001b[0m\u001b[1;33m\u001b[0m\u001b[0m\n\u001b[0;32m    469\u001b[0m             \u001b[0mXt\u001b[0m \u001b[1;33m=\u001b[0m \u001b[0mtransform\u001b[0m\u001b[1;33m.\u001b[0m\u001b[0mtransform\u001b[0m\u001b[1;33m(\u001b[0m\u001b[0mXt\u001b[0m\u001b[1;33m)\u001b[0m\u001b[1;33m\u001b[0m\u001b[1;33m\u001b[0m\u001b[0m\n\u001b[1;32m--> 470\u001b[1;33m         \u001b[1;32mreturn\u001b[0m \u001b[0mself\u001b[0m\u001b[1;33m.\u001b[0m\u001b[0msteps\u001b[0m\u001b[1;33m[\u001b[0m\u001b[1;33m-\u001b[0m\u001b[1;36m1\u001b[0m\u001b[1;33m]\u001b[0m\u001b[1;33m[\u001b[0m\u001b[1;36m1\u001b[0m\u001b[1;33m]\u001b[0m\u001b[1;33m.\u001b[0m\u001b[0mpredict\u001b[0m\u001b[1;33m(\u001b[0m\u001b[0mXt\u001b[0m\u001b[1;33m,\u001b[0m \u001b[1;33m**\u001b[0m\u001b[0mpredict_params\u001b[0m\u001b[1;33m)\u001b[0m\u001b[1;33m\u001b[0m\u001b[1;33m\u001b[0m\u001b[0m\n\u001b[0m\u001b[0;32m    471\u001b[0m \u001b[1;33m\u001b[0m\u001b[0m\n\u001b[0;32m    472\u001b[0m     \u001b[1;33m@\u001b[0m\u001b[0mavailable_if\u001b[0m\u001b[1;33m(\u001b[0m\u001b[0m_final_estimator_has\u001b[0m\u001b[1;33m(\u001b[0m\u001b[1;34m\"fit_predict\"\u001b[0m\u001b[1;33m)\u001b[0m\u001b[1;33m)\u001b[0m\u001b[1;33m\u001b[0m\u001b[1;33m\u001b[0m\u001b[0m\n",
      "\u001b[1;32m~\\AppData\\Local\\Programs\\Python\\Python39\\lib\\site-packages\\sklearn\\linear_model\\_base.py\u001b[0m in \u001b[0;36mpredict\u001b[1;34m(self, X)\u001b[0m\n\u001b[0;32m    423\u001b[0m             \u001b[0mVector\u001b[0m \u001b[0mcontaining\u001b[0m \u001b[0mthe\u001b[0m \u001b[1;32mclass\u001b[0m \u001b[0mlabels\u001b[0m \u001b[1;32mfor\u001b[0m \u001b[0meach\u001b[0m \u001b[0msample\u001b[0m\u001b[1;33m.\u001b[0m\u001b[1;33m\u001b[0m\u001b[1;33m\u001b[0m\u001b[0m\n\u001b[0;32m    424\u001b[0m         \"\"\"\n\u001b[1;32m--> 425\u001b[1;33m         \u001b[0mscores\u001b[0m \u001b[1;33m=\u001b[0m \u001b[0mself\u001b[0m\u001b[1;33m.\u001b[0m\u001b[0mdecision_function\u001b[0m\u001b[1;33m(\u001b[0m\u001b[0mX\u001b[0m\u001b[1;33m)\u001b[0m\u001b[1;33m\u001b[0m\u001b[1;33m\u001b[0m\u001b[0m\n\u001b[0m\u001b[0;32m    426\u001b[0m         \u001b[1;32mif\u001b[0m \u001b[0mlen\u001b[0m\u001b[1;33m(\u001b[0m\u001b[0mscores\u001b[0m\u001b[1;33m.\u001b[0m\u001b[0mshape\u001b[0m\u001b[1;33m)\u001b[0m \u001b[1;33m==\u001b[0m \u001b[1;36m1\u001b[0m\u001b[1;33m:\u001b[0m\u001b[1;33m\u001b[0m\u001b[1;33m\u001b[0m\u001b[0m\n\u001b[0;32m    427\u001b[0m             \u001b[0mindices\u001b[0m \u001b[1;33m=\u001b[0m \u001b[1;33m(\u001b[0m\u001b[0mscores\u001b[0m \u001b[1;33m>\u001b[0m \u001b[1;36m0\u001b[0m\u001b[1;33m)\u001b[0m\u001b[1;33m.\u001b[0m\u001b[0mastype\u001b[0m\u001b[1;33m(\u001b[0m\u001b[0mint\u001b[0m\u001b[1;33m)\u001b[0m\u001b[1;33m\u001b[0m\u001b[1;33m\u001b[0m\u001b[0m\n",
      "\u001b[1;32m~\\AppData\\Local\\Programs\\Python\\Python39\\lib\\site-packages\\sklearn\\linear_model\\_base.py\u001b[0m in \u001b[0;36mdecision_function\u001b[1;34m(self, X)\u001b[0m\n\u001b[0;32m    403\u001b[0m             \u001b[0mthis\u001b[0m \u001b[1;32mclass\u001b[0m \u001b[0mwould\u001b[0m \u001b[0mbe\u001b[0m \u001b[0mpredicted\u001b[0m\u001b[1;33m.\u001b[0m\u001b[1;33m\u001b[0m\u001b[1;33m\u001b[0m\u001b[0m\n\u001b[0;32m    404\u001b[0m         \"\"\"\n\u001b[1;32m--> 405\u001b[1;33m         \u001b[0mcheck_is_fitted\u001b[0m\u001b[1;33m(\u001b[0m\u001b[0mself\u001b[0m\u001b[1;33m)\u001b[0m\u001b[1;33m\u001b[0m\u001b[1;33m\u001b[0m\u001b[0m\n\u001b[0m\u001b[0;32m    406\u001b[0m \u001b[1;33m\u001b[0m\u001b[0m\n\u001b[0;32m    407\u001b[0m         \u001b[0mX\u001b[0m \u001b[1;33m=\u001b[0m \u001b[0mself\u001b[0m\u001b[1;33m.\u001b[0m\u001b[0m_validate_data\u001b[0m\u001b[1;33m(\u001b[0m\u001b[0mX\u001b[0m\u001b[1;33m,\u001b[0m \u001b[0maccept_sparse\u001b[0m\u001b[1;33m=\u001b[0m\u001b[1;34m\"csr\"\u001b[0m\u001b[1;33m,\u001b[0m \u001b[0mreset\u001b[0m\u001b[1;33m=\u001b[0m\u001b[1;32mFalse\u001b[0m\u001b[1;33m)\u001b[0m\u001b[1;33m\u001b[0m\u001b[1;33m\u001b[0m\u001b[0m\n",
      "\u001b[1;32m~\\AppData\\Local\\Programs\\Python\\Python39\\lib\\site-packages\\sklearn\\utils\\validation.py\u001b[0m in \u001b[0;36mcheck_is_fitted\u001b[1;34m(estimator, attributes, msg, all_or_any)\u001b[0m\n\u001b[0;32m   1220\u001b[0m \u001b[1;33m\u001b[0m\u001b[0m\n\u001b[0;32m   1221\u001b[0m     \u001b[1;32mif\u001b[0m \u001b[1;32mnot\u001b[0m \u001b[0mfitted\u001b[0m\u001b[1;33m:\u001b[0m\u001b[1;33m\u001b[0m\u001b[1;33m\u001b[0m\u001b[0m\n\u001b[1;32m-> 1222\u001b[1;33m         \u001b[1;32mraise\u001b[0m \u001b[0mNotFittedError\u001b[0m\u001b[1;33m(\u001b[0m\u001b[0mmsg\u001b[0m \u001b[1;33m%\u001b[0m \u001b[1;33m{\u001b[0m\u001b[1;34m\"name\"\u001b[0m\u001b[1;33m:\u001b[0m \u001b[0mtype\u001b[0m\u001b[1;33m(\u001b[0m\u001b[0mestimator\u001b[0m\u001b[1;33m)\u001b[0m\u001b[1;33m.\u001b[0m\u001b[0m__name__\u001b[0m\u001b[1;33m}\u001b[0m\u001b[1;33m)\u001b[0m\u001b[1;33m\u001b[0m\u001b[1;33m\u001b[0m\u001b[0m\n\u001b[0m\u001b[0;32m   1223\u001b[0m \u001b[1;33m\u001b[0m\u001b[0m\n\u001b[0;32m   1224\u001b[0m \u001b[1;33m\u001b[0m\u001b[0m\n",
      "\u001b[1;31mNotFittedError\u001b[0m: This SGDClassifier instance is not fitted yet. Call 'fit' with appropriate arguments before using this estimator."
     ]
    }
   ],
   "source": [
    "# train a linear model - sgd \n",
    "svm_hinge = fit_(\"hinge\", X_train, y_train, alpha=0.1, classifier='sgd', normalise=False)             # log 0.03/hinge 0.1\n",
    "train_acc = predict_(svm_hinge, X_train, y_train,\"Train\")             # normalisation was surprisingly not that useful\n",
    "                                                                      # most data features have similar range\n",
    "test_acc = predict_(svm_hinge, X_dev, y_dev,\"Dev\")\n",
    "test_acc = predict_(svm_hinge, X_test, y_test,\"Test\")"
   ]
  },
  {
   "cell_type": "code",
   "execution_count": null,
   "id": "db704b30",
   "metadata": {},
   "outputs": [],
   "source": [
    "#train a linear model - logistic\n",
    "# train a linear model - sgd \n",
    "logisitic = fit_(\"hinge\", X_train, y_train, alpha=0.1, classifier='logistic', normalise=True)\n",
    "train_acc = predict_(logisitic, X_train, y_train,\"Train\")\n",
    "test_acc = predict_(logisitic, X_dev, y_dev,\"Dev\")\n",
    "test_acc = predict_(logisitic, X_test, y_test,\"Test\")"
   ]
  },
  {
   "cell_type": "code",
   "execution_count": null,
   "id": "e0c7bdcb",
   "metadata": {},
   "outputs": [],
   "source": [
    "def get_confusion(model, data, label):\n",
    "    pred = model.predict(data)\n",
    "    mat = confusion_matrix(label, pred)\n",
    "    return mat"
   ]
  },
  {
   "cell_type": "code",
   "execution_count": null,
   "id": "54d154e5",
   "metadata": {},
   "outputs": [],
   "source": [
    "from sklearn.metrics import ConfusionMatrixDisplay"
   ]
  },
  {
   "cell_type": "code",
   "execution_count": null,
   "id": "3af3df6b",
   "metadata": {},
   "outputs": [],
   "source": [
    "def plot_confusion(model):\n",
    "    fig = plt.figure()\n",
    "    fig.set_size_inches(20,6)\n",
    "    ax1 = fig.add_subplot(131)\n",
    "    disp1 = ConfusionMatrixDisplay(get_confusion(model, X_train, y_train))\n",
    "    disp1.plot(ax=ax1)\n",
    "    disp1.ax_.set_title(\"Train Confusion Matrix\")\n",
    "\n",
    "    ax2 = fig.add_subplot(132)\n",
    "    disp2 = ConfusionMatrixDisplay(get_confusion(model, X_dev, y_dev))\n",
    "    disp2.plot(ax=ax2)\n",
    "    disp2.ax_.set_title(\"Dev Confusion Matrix\")\n",
    "\n",
    "    ax3 = fig.add_subplot(133)\n",
    "    disp3 = ConfusionMatrixDisplay(get_confusion(model, X_test, y_test))\n",
    "    disp3.plot(ax=ax3)\n",
    "    disp3.ax_.set_title(\"Test Confusion Matrix\")"
   ]
  },
  {
   "cell_type": "code",
   "execution_count": null,
   "id": "63bfd46f",
   "metadata": {},
   "outputs": [],
   "source": [
    "plot_confusion(svm_hinge)\n",
    "\"\"\"\n",
    "Confusion matrix for SGD classifier with hinge loss\n",
    "\"\"\""
   ]
  },
  {
   "cell_type": "code",
   "execution_count": null,
   "id": "2b44e63e",
   "metadata": {},
   "outputs": [],
   "source": [
    "plot_confusion(logisitic)\n",
    "\"\"\"\n",
    "Confusion matrix for logistic regression\n",
    "\"\"\""
   ]
  },
  {
   "cell_type": "code",
   "execution_count": null,
   "id": "07de5727",
   "metadata": {},
   "outputs": [],
   "source": [
    "a = classification_report(y_test, svm_hinge.predict(X_test), output_dict=True)\n",
    "pd.DataFrame.from_dict(a).transpose()"
   ]
  },
  {
   "cell_type": "code",
   "execution_count": null,
   "id": "1115ed57",
   "metadata": {},
   "outputs": [],
   "source": [
    "#to yet analyse the 1. accuracy, 2. confusion matrix 3. classification report"
   ]
  },
  {
   "cell_type": "markdown",
   "id": "435d62c9",
   "metadata": {
    "id": "435d62c9"
   },
   "source": [
    "## Task II\n",
    "1. Having established a baseline with a linear model trained on a downsampled signal representation of the speech segment, this task aims to learn a classifier based on the full speech segment. To this end, you will implement a neural model that is suitable for sequential data such as recurrent DNN, convolutional DNN with 1-D temporal convolution, or an audio transformer. The model should take the acoustic sample as it is (i.e., the Mel spectrogram could have an arbitrary length) without the need to downsample the segment. You need to implement at least two of the aforementioned models. Do the neural models improve accuracy over the baseline model? Do you observe any signs of overfitting to the training data? How do the hyperparameters affect the model performance? Report and discuss your observations.        \n",
    "\n",
    "2. Evaluate your (best) neural models and compare to the baseline model using the same evalution process as in task I.4. \n",
    "\n",
    "3. Use a dimensionality reduction algorithm such as t-SNE \\[[1](https://en.wikipedia.org/wiki/T-distributed_stochastic_neighbor_embedding),[2](https://pypi.org/project/tsne-torch/),[3](https://scikit-learn.org/stable/modules/generated/sklearn.manifold.TSNE.html)\\] or [UMAP](https://umap-learn.readthedocs.io/en/latest/basic_usage.html) to analyze how the different models seperate the different classes (the last non-linear layer in your model). Compare to the downsampled representation you used in the baseline and report your observations.\n",
    "\n",
    "4. Are the differences between the different models statistically significant? To answer this question, you need to implement a statistical significance test based on bootstrapping method. To read more how to estiame p-values based on bootstrapping, we recommend the materials on this paper https://aclanthology.org/D12-1091.pdf. Include the baseline model in your evaluation. "
   ]
  },
  {
   "cell_type": "code",
   "execution_count": null,
   "id": "1f11c214",
   "metadata": {},
   "outputs": [],
   "source": [
    "import torch\n",
    "import torch.nn as nn\n",
    "from torch.utils.data import DataLoader, Dataset\n",
    "import torch.optim as optim\n",
    "from torch.autograd import Variable"
   ]
  },
  {
   "cell_type": "code",
   "execution_count": 376,
   "id": "0f461b2e",
   "metadata": {},
   "outputs": [],
   "source": [
    "# global variables\n",
    "K_SIZE = 13\n",
    "HIDDEN_SIZE = 128\n",
    "NUM_CLASSES = 10\n",
    "DEVICE = 'cuda' if torch.cuda.is_available() else 'cpu'"
   ]
  },
  {
   "cell_type": "code",
   "execution_count": 377,
   "id": "e550c62c",
   "metadata": {},
   "outputs": [],
   "source": [
    "# change the dataloader, preprocess\n",
    "# pre-processing data\n",
    "def preprocess_data(data, k_size):\n",
    "    all_data = []\n",
    "    for i in range(len(data)):\n",
    "        gt = data[\"label\"].iloc[i]\n",
    "        \n",
    "        filename = data[\"file\"].iloc[i]\n",
    "        x, sr = librosa.load(filename, sr = SAMPLING_RATE)\n",
    "        melspectrogram = extract_melspectrogram(x, sr, num_mels=k_size)         # returns K x T matrix (numpy?)\n",
    "        \n",
    "        #append data\n",
    "        d = {\"input\":torch.Tensor(melspectrogram).T, \"label\":gt}\n",
    "        all_data.append(d)\n",
    "    return all_data"
   ]
  },
  {
   "cell_type": "code",
   "execution_count": 378,
   "id": "4e553199",
   "metadata": {},
   "outputs": [],
   "source": [
    "# data loader\n",
    "train_mask = sdr_df['split'] == \"TRAIN\"\n",
    "train_files = sdr_df[train_mask]\n",
    "train_dataset = preprocess_data(train_files, k_size=K_SIZE)\n",
    "train_loader = DataLoader(train_dataset, batch_size=1, shuffle=True)  #NOTE: batch size must be \"1\",samples are varying length\n",
    "\n",
    "dev_mask = sdr_df['split'] == \"DEV\"\n",
    "dev_files = sdr_df[dev_mask]\n",
    "dev_dataset = preprocess_data(dev_files, k_size=K_SIZE)\n",
    "dev_loader = DataLoader(dev_dataset, batch_size=1, shuffle=True)\n",
    "\n",
    "test_mask = sdr_df['split'] == \"TEST\"\n",
    "test_files = sdr_df[test_mask]\n",
    "test_dataset = preprocess_data(test_files, k_size=K_SIZE)\n",
    "test_loader = DataLoader(test_dataset, batch_size=1, shuffle=True)"
   ]
  },
  {
   "cell_type": "code",
   "execution_count": 48,
   "id": "7d2b52f3",
   "metadata": {},
   "outputs": [],
   "source": [
    "# Design choices\n",
    "# MSE -> regression X (bad choice)\n",
    "# NLLLoss -> classification (suited if last layer is log softmax)\n",
    "# crossent -> classification (suited if last layer is softmax)\n",
    "\n",
    "# ----------\n",
    "# choose if additional layer required\n",
    "# need probabilities so either use \n",
    "#   1. (tanh+1)/2\n",
    "#   3. Relu -> softmax"
   ]
  },
  {
   "cell_type": "code",
   "execution_count": 173,
   "id": "c10412ff",
   "metadata": {},
   "outputs": [],
   "source": [
    "class RNNModel(nn.Module):\n",
    "    \"\"\"\n",
    "    input_size: input element size, same as \"k\" in our melspectrogram\n",
    "    hidden_size: hidden state dimension\n",
    "    \"\"\"\n",
    "    def __init__(self, input_size, hidden_size, n_layers=1, dropout=0, nonlinearity=\"tanh\"):\n",
    "        super(RNNModel, self).__init__()\n",
    "        \n",
    "        # RNN defined by pytorch is always sequence to sequence (rather output is always a sequence)\n",
    "        # input size  : (1, T, in_size)\n",
    "        # output size : (1, T, hid_size)\n",
    "        # i.e, we get output for every iteration of RNN\n",
    "        # if we are interested in sequence to vector (as is the case here),\n",
    "        # we take only the last output vector in the output matrix (refer to forward function)\n",
    "        \n",
    "        self.rnn = nn.RNN(input_size, \n",
    "                          hidden_size, \n",
    "                          n_layers, \n",
    "                          dropout=dropout, \n",
    "                          batch_first=True, \n",
    "                          nonlinearity=nonlinearity)\n",
    "        self.linear = nn.Linear(hidden_size, NUM_CLASSES)   # adding linear layer to increase capacity of the model\n",
    "        self.act = nn.Softmax()\n",
    "        \n",
    "        self.nlayers = n_layers\n",
    "        self.hiddensize = hidden_size\n",
    "    \n",
    "    def forward(self, x):\n",
    "        #initialise a hidden state\n",
    "        h0 = Variable(torch.zeros(self.nlayers, x.size(0), self.hiddensize), requires_grad=True).to(DEVICE)\n",
    "        out, hn = self.rnn(x, h0)\n",
    "        \n",
    "        # out size = (batch_size, seq_length(T), hidden_dim)\n",
    "        # we are only interested in that last output\n",
    "        out = self.linear(out[:, -1, :])\n",
    "        out = self.act(out)\n",
    "        return out"
   ]
  },
  {
   "cell_type": "code",
   "execution_count": 174,
   "id": "3f822c40",
   "metadata": {},
   "outputs": [],
   "source": [
    "# Define the LSTM model\n",
    "class LSTMModel(nn.Module):\n",
    "    def __init__(self, input_size, hidden_size, num_layers, num_classes):\n",
    "        super(LSTMModel, self).__init__()\n",
    "        self.hidden_size = hidden_size\n",
    "        self.num_layers = num_layers\n",
    "        self.lstm = nn.LSTM(input_size, hidden_size, num_layers, batch_first=True)\n",
    "        self.fc = nn.Linear(hidden_size, num_classes)\n",
    "\n",
    "    def forward(self, x):\n",
    "        # Set initial hidden and cell states\n",
    "        h0 = torch.zeros(self.num_layers, x.size(0), self.hidden_size).to(DEVICE)\n",
    "        c0 = torch.zeros(self.num_layers, x.size(0), self.hidden_size).to(DEVICE)\n",
    "        \n",
    "        # Forward propagate LSTM\n",
    "        out, _ = self.lstm(x, (h0, c0))\n",
    "\n",
    "        # Decode the hidden state of the last time step\n",
    "        out = self.fc(out[:, -1, :])\n",
    "        return out"
   ]
  },
  {
   "cell_type": "code",
   "execution_count": 370,
   "id": "b4fa4200",
   "metadata": {},
   "outputs": [],
   "source": [
    "class temporal1DConv(nn.Module):\n",
    "    def __init__(self, in_size, filters, out_size):\n",
    "        '''\n",
    "        in_size: is same as k\n",
    "        '''\n",
    "        super(temporal1DConv, self).__init__()\n",
    "        \n",
    "        layes=[]\n",
    "        layes.append(nn.Conv1d(in_size, filters[0], 3, padding=1, padding_mode='reflect'))\n",
    "        for i in range(len(filters)-1):\n",
    "            layes.append( nn.Conv1d(filters[i], filters[i+1], 3, padding=1, padding_mode='reflect') )\n",
    "            layes.append(nn.ReLU())\n",
    "        \n",
    "        self.layers = nn.Sequential(*layes)\n",
    "        self.linear1 = nn.Linear(filters[-1], 200)\n",
    "        self.linear2 = nn.Linear(200, out_size)\n",
    "    \n",
    "    def forward(self, x):\n",
    "        x = x.permute(0,2,1)\n",
    "        out = self.layers(x)\n",
    "        out = torch.max(out, 2).values\n",
    "        out = self.linear1(out)\n",
    "        out = self.linear2(out)\n",
    "        return out"
   ]
  },
  {
   "cell_type": "code",
   "execution_count": 372,
   "id": "7b227815",
   "metadata": {},
   "outputs": [],
   "source": [
    "def weights_init(m):\n",
    "    if type(m) == nn.Linear:\n",
    "        m.weight.data.normal_(0.0, 1e-3)\n",
    "        m.bias.data.fill_(0.)"
   ]
  },
  {
   "cell_type": "code",
   "execution_count": 373,
   "id": "69f7e130",
   "metadata": {},
   "outputs": [],
   "source": [
    "# write the training loop\n",
    "# NOTE: Loop is currently designed for crossentropy loss with tanh activation, might need changes for other configs\n",
    "def train(model, train_loader, val_loader, opt_choice, lr, reg, loss_choice, epochs):\n",
    "    M = len(train_loader.dataset)\n",
    "    M_v = len(val_loader.dataset)\n",
    "    \n",
    "    # optimiser\n",
    "    if opt_choice==\"adam\":\n",
    "        opt = optim.Adam(model.parameters(), lr=lr, weight_decay=reg)\n",
    "        \n",
    "    # loss function\n",
    "    if loss_choice==\"NLL\":\n",
    "        # negative log loikelihood but requires output layer to be logsoftmax\n",
    "        pass\n",
    "    elif loss_choice==\"cross\":\n",
    "        loss = torch.nn.CrossEntropyLoss()\n",
    "    \n",
    "    train_loss=[]\n",
    "    train_acc=[]\n",
    "    val_acc=[]\n",
    "    val_loss=[]\n",
    "    for epoch in range(epochs):\n",
    "        epoch_loss = 0\n",
    "        epoch_acc = 0\n",
    "        #capture accuracy and loss curves\n",
    "        for i,data in enumerate(train_loader):\n",
    "            inp = data[\"input\"].to(DEVICE)\n",
    "            label = data[\"label\"].to(DEVICE)\n",
    "\n",
    "            # zero out previous gradient? SHOULD I?\n",
    "            opt.zero_grad()\n",
    "\n",
    "            # forward pass\n",
    "            out = model(inp)\n",
    "\n",
    "            #get loss\n",
    "            lossval = loss(out, label)\n",
    "\n",
    "            #perform backprop\n",
    "            lossval.backward()\n",
    "\n",
    "            #update the weights\n",
    "            opt.step()\n",
    "\n",
    "            #get accuracy and loss value\n",
    "            epoch_loss += lossval.item()\n",
    "            epoch_acc += ( torch.argmax(out)==label )        #NOTE: Only works when batch size=1\n",
    "        \n",
    "        #update overall acc and epoch\n",
    "        train_loss.append(epoch_loss/M)\n",
    "        train_acc.append(epoch_acc/M)\n",
    "        \n",
    "        with torch.no_grad():\n",
    "            epoch_loss=0\n",
    "            epoch_acc=0\n",
    "            for i,data in enumerate(val_loader):\n",
    "                inp = data[\"input\"].to(DEVICE)\n",
    "                label = data[\"label\"].to(DEVICE)\n",
    "                \n",
    "                out=model(inp)\n",
    "                lossval = loss(out, label)\n",
    "                \n",
    "                epoch_loss+=lossval.item()\n",
    "                epoch_acc+=(torch.argmax(out) == label)\n",
    "        \n",
    "        val_loss.append(epoch_loss/M_v)\n",
    "        val_acc.append(epoch_acc/M_v)\n",
    "        \n",
    "    return train_loss, train_acc, val_loss, val_acc"
   ]
  },
  {
   "cell_type": "code",
   "execution_count": 374,
   "id": "43191205",
   "metadata": {},
   "outputs": [],
   "source": [
    "# write the evaluation loop\n",
    "def test(model, test_loader):\n",
    "    test_acc=0\n",
    "    test_loss=0\n",
    "    \n",
    "    with torch.no_grad():\n",
    "        for i,data in enumerate(test_loader):\n",
    "            inp = data[\"input\"].to(DEVICE)\n",
    "            label = data[\"label\"].to(DEVICE)\n",
    "\n",
    "            # forward pass\n",
    "            out = model(inp)\n",
    "\n",
    "            test_acc+= ( torch.argmax(out)==label )\n",
    "    return test_acc/len(test_loader.dataset)"
   ]
  },
  {
   "cell_type": "code",
   "execution_count": null,
   "id": "1f1bb9ce",
   "metadata": {},
   "outputs": [],
   "source": []
  },
  {
   "cell_type": "markdown",
   "id": "fa223361",
   "metadata": {},
   "source": [
    "### RNN"
   ]
  },
  {
   "cell_type": "code",
   "execution_count": 55,
   "id": "d74595a0",
   "metadata": {
    "scrolled": true
   },
   "outputs": [],
   "source": [
    "# preform training and testing\n",
    "rnn_model = RNNModel(K_SIZE,HIDDEN_SIZE, 2).to(DEVICE)\n",
    "rnn_model.apply(weights_init)\n",
    "train_loss, train_acc, val_loss, val_acc = train(rnn_model, train_loader, dev_loader, \"adam\", 1e-3, 1e-2, \"cross\", 10)"
   ]
  },
  {
   "cell_type": "code",
   "execution_count": 56,
   "id": "6eb2df5a",
   "metadata": {},
   "outputs": [],
   "source": [
    "test_acc = test(rnn_model, train_loader)"
   ]
  },
  {
   "cell_type": "code",
   "execution_count": 57,
   "id": "0005e070",
   "metadata": {},
   "outputs": [
    {
     "name": "stdout",
     "output_type": "stream",
     "text": [
      "[tensor([0.0805], device='cuda:0'), tensor([0.0895], device='cuda:0'), tensor([0.0960], device='cuda:0'), tensor([0.0895], device='cuda:0'), tensor([0.0795], device='cuda:0'), tensor([0.0875], device='cuda:0'), tensor([0.0920], device='cuda:0'), tensor([0.0865], device='cuda:0'), tensor([0.0910], device='cuda:0'), tensor([0.1225], device='cuda:0')]\n",
      "-------------------------\n",
      "[tensor([0.1087], device='cuda:0'), tensor([0.0905], device='cuda:0'), tensor([0.1066], device='cuda:0'), tensor([0.0885], device='cuda:0'), tensor([0.0885], device='cuda:0'), tensor([0.0946], device='cuda:0'), tensor([0.0946], device='cuda:0'), tensor([0.0926], device='cuda:0'), tensor([0.0946], device='cuda:0'), tensor([0.1026], device='cuda:0')]\n",
      "-------------------------\n",
      "tensor([0.0975], device='cuda:0')\n"
     ]
    }
   ],
   "source": [
    "print(train_acc)\n",
    "print(\"-------------------------\")\n",
    "print(val_acc)\n",
    "print(\"-------------------------\")\n",
    "print(test_acc)"
   ]
  },
  {
   "cell_type": "code",
   "execution_count": null,
   "id": "d816cde3",
   "metadata": {},
   "outputs": [],
   "source": []
  },
  {
   "cell_type": "markdown",
   "id": "ad0985ee",
   "metadata": {},
   "source": [
    "### LSTM"
   ]
  },
  {
   "cell_type": "code",
   "execution_count": 58,
   "id": "7654617d",
   "metadata": {},
   "outputs": [],
   "source": [
    "lstm_model = LSTMModel(K_SIZE, HIDDEN_SIZE, 2, NUM_CLASSES).to(DEVICE)\n",
    "lstm_model.apply(weights_init)\n",
    "train_loss, train_acc, val_loss, val_acc = train(lstm_model, train_loader, dev_loader, \"adam\", 1e-3, 1e-2, \"cross\", 10)"
   ]
  },
  {
   "cell_type": "code",
   "execution_count": 105,
   "id": "95b35391",
   "metadata": {},
   "outputs": [],
   "source": [
    "test_acc = test(lstm_model, test_loader)"
   ]
  },
  {
   "cell_type": "code",
   "execution_count": 106,
   "id": "908bc340",
   "metadata": {},
   "outputs": [
    {
     "name": "stdout",
     "output_type": "stream",
     "text": [
      "[tensor([0.0860], device='cuda:0'), tensor([0.1345], device='cuda:0'), tensor([0.2195], device='cuda:0'), tensor([0.3905], device='cuda:0'), tensor([0.6075], device='cuda:0'), tensor([0.6940], device='cuda:0'), tensor([0.7635], device='cuda:0'), tensor([0.7910], device='cuda:0'), tensor([0.8245], device='cuda:0'), tensor([0.8270], device='cuda:0')]\n",
      "-------------------------\n",
      "[tensor([0.1006], device='cuda:0'), tensor([0.1227], device='cuda:0'), tensor([0.1851], device='cuda:0'), tensor([0.2877], device='cuda:0'), tensor([0.3863], device='cuda:0'), tensor([0.4507], device='cuda:0'), tensor([0.4889], device='cuda:0'), tensor([0.4608], device='cuda:0'), tensor([0.4930], device='cuda:0'), tensor([0.4447], device='cuda:0')]\n",
      "-------------------------\n",
      "tensor([0.4751], device='cuda:0')\n"
     ]
    }
   ],
   "source": [
    "print(train_acc)\n",
    "print(\"-------------------------\")\n",
    "print(val_acc)\n",
    "print(\"-------------------------\")\n",
    "print(test_acc)"
   ]
  },
  {
   "cell_type": "code",
   "execution_count": null,
   "id": "fd9b7d3c",
   "metadata": {},
   "outputs": [],
   "source": []
  },
  {
   "cell_type": "markdown",
   "id": "f7676ed7",
   "metadata": {},
   "source": [
    "### Temporal Convolution"
   ]
  },
  {
   "cell_type": "code",
   "execution_count": 379,
   "id": "89f31ab6",
   "metadata": {},
   "outputs": [],
   "source": [
    "filters = [32, 64, 128, 1024]\n",
    "cnn_model = temporal1DConv(K_SIZE, filters, NUM_CLASSES).to(DEVICE)\n",
    "cnn_model.apply(weights_init)\n",
    "train_loss, train_acc, val_loss, val_acc = train(cnn_model, train_loader, dev_loader, \"adam\", 1e-3, 1e-3, \"cross\", 10)"
   ]
  },
  {
   "cell_type": "code",
   "execution_count": 380,
   "id": "b04b47fc",
   "metadata": {},
   "outputs": [],
   "source": [
    "test_acc = test(cnn_model, test_loader)"
   ]
  },
  {
   "cell_type": "code",
   "execution_count": 381,
   "id": "6152983d",
   "metadata": {},
   "outputs": [
    {
     "name": "stdout",
     "output_type": "stream",
     "text": [
      "[tensor([0.1600], device='cuda:0'), tensor([0.4220], device='cuda:0'), tensor([0.6930], device='cuda:0'), tensor([0.7855], device='cuda:0'), tensor([0.8380], device='cuda:0'), tensor([0.8575], device='cuda:0'), tensor([0.8920], device='cuda:0'), tensor([0.9020], device='cuda:0'), tensor([0.9180], device='cuda:0'), tensor([0.9150], device='cuda:0')]\n",
      "-------------------------\n",
      "[tensor([0.1851], device='cuda:0'), tensor([0.4427], device='cuda:0'), tensor([0.3139], device='cuda:0'), tensor([0.5010], device='cuda:0'), tensor([0.5352], device='cuda:0'), tensor([0.4789], device='cuda:0'), tensor([0.5191], device='cuda:0'), tensor([0.5674], device='cuda:0'), tensor([0.6559], device='cuda:0'), tensor([0.5030], device='cuda:0')]\n",
      "-------------------------\n",
      "tensor([0.4950], device='cuda:0')\n"
     ]
    }
   ],
   "source": [
    "print(train_acc)\n",
    "print(\"-------------------------\")\n",
    "print(val_acc)\n",
    "print(\"-------------------------\")\n",
    "print(test_acc)"
   ]
  },
  {
   "cell_type": "code",
   "execution_count": null,
   "id": "b3113d3b",
   "metadata": {},
   "outputs": [],
   "source": []
  },
  {
   "cell_type": "code",
   "execution_count": 544,
   "id": "661f74d8",
   "metadata": {},
   "outputs": [],
   "source": [
    "# visualise the resulting loss, accuracy, confusion matrix, f1, precision and recall"
   ]
  },
  {
   "cell_type": "code",
   "execution_count": null,
   "id": "b8ecbaac",
   "metadata": {},
   "outputs": [],
   "source": [
    "    ## We implement a linear projection based on Very Deep Self-Attention Networks for End-to-End Speech Recognition. Retrieved from https://arxiv.org/abs/1904.13377\n"
   ]
  },
  {
   "cell_type": "code",
   "execution_count": 232,
   "id": "585b5600",
   "metadata": {},
   "outputs": [],
   "source": [
    "# CNN with 1D temporal convolution and audio transformer"
   ]
  },
  {
   "cell_type": "code",
   "execution_count": null,
   "id": "1e900ade",
   "metadata": {},
   "outputs": [],
   "source": []
  },
  {
   "cell_type": "markdown",
   "id": "8f95e312",
   "metadata": {
    "id": "8f95e312"
   },
   "source": [
    "## Task III (Open Ended)\n",
    "1. Consider the case where we have speech data from a single speaker (e.g., george). Train your models on this subset of the data. What do you observe? How does this affect the model performance? \n",
    "\n",
    "2. Even though a model is trained on a single speaker, we would like the model to generalizes to any speaker. To this end, one can use data augmentation techniques to artificially create more samples for each class. Some of these augmentations can be applied on the spectrogram (e.g., SpecAugment https://ai.googleblog.com/2019/04/specaugment-new-data-augmentation.html), and other can be applied on the raw waveform before creating the spectrogram such as pitch manipulation (https://github.com/facebookresearch/WavAugment). Explore the effect of one type of augmentation from each type. Report your observation and anaylze the confusion matrices.\n",
    "\n",
    "3. Data augmentation techniques create different \"views\" of each training sample in a stochastic or determinstic approach. One can leaverage speech data augmentation to create views for training a neural network in a contrastive learning setting with margin-based objective function (for more info, read http://proceedings.mlr.press/v130/al-tahan21a/al-tahan21a.pdf). Implement at least one model using a contrastive loss based on different views of the training samples. Does this model improve over the model without contrastive learning? Report and discuss your observations. \n",
    "\n",
    "For more information on the contrastive learning framework, you can refer to this paper\n",
    "https://ieeexplore.ieee.org/stamp/stamp.jsp?arnumber=9226466"
   ]
  },
  {
   "cell_type": "code",
   "execution_count": 30,
   "id": "6aab3876",
   "metadata": {
    "executionInfo": {
     "elapsed": 26,
     "status": "aborted",
     "timestamp": 1674212543223,
     "user": {
      "displayName": "Hyoseung Kang",
      "userId": "00233629824676120159"
     },
     "user_tz": -60
    },
    "id": "6aab3876"
   },
   "outputs": [],
   "source": []
  },
  {
   "cell_type": "code",
   "execution_count": 49,
   "id": "8398f4f6",
   "metadata": {},
   "outputs": [],
   "source": [
    "# TRAINING FOR ONE USER"
   ]
  },
  {
   "cell_type": "code",
   "execution_count": 179,
   "id": "34c37dff",
   "metadata": {
    "executionInfo": {
     "elapsed": 26,
     "status": "aborted",
     "timestamp": 1674212543224,
     "user": {
      "displayName": "Hyoseung Kang",
      "userId": "00233629824676120159"
     },
     "user_tz": -60
    },
    "id": "34c37dff"
   },
   "outputs": [],
   "source": [
    "# data loader --- train -- george, dev and test -- all users\n",
    "train_mask = (sdr_df['split'] == \"TRAIN\") & (sdr_df['speaker']=='george')\n",
    "train_files = sdr_df[train_mask]\n",
    "train_dataset = preprocess_data(train_files, k_size=K_SIZE)\n",
    "train_loader = DataLoader(train_dataset, batch_size=1, shuffle=True)  # NOTE: batch size must be \"1\",samples are varying length\n",
    "# print(len(train_dataset))\n",
    "\n",
    "dev_mask = sdr_df['split'] == \"DEV\"\n",
    "dev_files = sdr_df[dev_mask]\n",
    "dev_dataset = preprocess_data(dev_files, k_size=K_SIZE)\n",
    "dev_loader = DataLoader(dev_dataset, batch_size=1, shuffle=True)\n",
    "\n",
    "test_mask = sdr_df['split'] == \"TEST\"\n",
    "test_files = sdr_df[test_mask]\n",
    "test_dataset = preprocess_data(test_files, k_size=K_SIZE)\n",
    "test_loader = DataLoader(test_dataset, batch_size=1, shuffle=True)\n"
   ]
  },
  {
   "cell_type": "code",
   "execution_count": 180,
   "id": "3a6fa3eb",
   "metadata": {},
   "outputs": [],
   "source": [
    "filters = [32, 64, 128, 1024]\n",
    "cnn_model = temporal1DConv(K_SIZE, filters, NUM_CLASSES).to(DEVICE)\n",
    "cnn_model.apply(weights_init)\n",
    "train_loss, train_acc, val_loss, val_acc = train(cnn_model, train_loader, dev_loader, \"adam\", 1e-3, 1e-3, \"cross\", 20)"
   ]
  },
  {
   "cell_type": "code",
   "execution_count": 181,
   "id": "f082882c",
   "metadata": {},
   "outputs": [],
   "source": [
    "test_acc = test(cnn_model, test_loader)"
   ]
  },
  {
   "cell_type": "code",
   "execution_count": 182,
   "id": "9aa6eb78",
   "metadata": {
    "scrolled": true
   },
   "outputs": [
    {
     "name": "stdout",
     "output_type": "stream",
     "text": [
      "[tensor([0.2220], device='cuda:0'), tensor([0.4680], device='cuda:0'), tensor([0.6520], device='cuda:0'), tensor([0.8000], device='cuda:0'), tensor([0.8480], device='cuda:0'), tensor([0.8720], device='cuda:0'), tensor([0.9020], device='cuda:0'), tensor([0.8340], device='cuda:0'), tensor([0.9300], device='cuda:0'), tensor([0.9860], device='cuda:0'), tensor([0.7940], device='cuda:0'), tensor([0.9620], device='cuda:0'), tensor([0.9960], device='cuda:0'), tensor([0.9620], device='cuda:0'), tensor([0.9100], device='cuda:0'), tensor([0.8680], device='cuda:0'), tensor([0.8540], device='cuda:0'), tensor([0.9620], device='cuda:0'), tensor([0.9780], device='cuda:0'), tensor([0.9760], device='cuda:0')]\n",
      "-------------------------\n",
      "[tensor([0.2153], device='cuda:0'), tensor([0.2555], device='cuda:0'), tensor([0.3239], device='cuda:0'), tensor([0.2254], device='cuda:0'), tensor([0.3159], device='cuda:0'), tensor([0.1851], device='cuda:0'), tensor([0.4588], device='cuda:0'), tensor([0.3159], device='cuda:0'), tensor([0.3823], device='cuda:0'), tensor([0.4185], device='cuda:0'), tensor([0.3239], device='cuda:0'), tensor([0.4628], device='cuda:0'), tensor([0.4105], device='cuda:0'), tensor([0.3561], device='cuda:0'), tensor([0.3179], device='cuda:0'), tensor([0.2414], device='cuda:0'), tensor([0.2998], device='cuda:0'), tensor([0.2394], device='cuda:0'), tensor([0.2837], device='cuda:0'), tensor([0.3682], device='cuda:0')]\n",
      "-------------------------\n",
      "tensor([0.3698], device='cuda:0')\n"
     ]
    }
   ],
   "source": [
    "print(train_acc)\n",
    "print(\"-------------------------\")\n",
    "print(val_acc)\n",
    "print(\"-------------------------\")\n",
    "print(test_acc)"
   ]
  },
  {
   "cell_type": "code",
   "execution_count": null,
   "id": "3a1ab708",
   "metadata": {},
   "outputs": [],
   "source": []
  },
  {
   "cell_type": "code",
   "execution_count": 183,
   "id": "3bc94045",
   "metadata": {},
   "outputs": [],
   "source": [
    "# DATA AUGMENTATION"
   ]
  },
  {
   "cell_type": "code",
   "execution_count": 184,
   "id": "48f45093",
   "metadata": {},
   "outputs": [],
   "source": [
    "#credit: https://github.com/DemisEom/SpecAugment.git\n",
    "#      : https://github.com/uchidalab/time_series_augmentation.git\n",
    "#SPEC AUGMENT\n",
    "def time_warp(x, sigma=0.04, knot=1):\n",
    "    from scipy.interpolate import CubicSpline\n",
    "    orig_steps = np.arange(x.shape[1])\n",
    "    \n",
    "    random_warps = np.random.normal(loc=1.0, scale=sigma, size=(x.shape[0], knot+2, x.shape[2]))\n",
    "    warp_steps = (np.ones((x.shape[2],1))*(np.linspace(0, x.shape[1]-1., num=knot+2))).T\n",
    "    \n",
    "    ret = np.zeros_like(x)\n",
    "    for i, pat in enumerate(x):\n",
    "        for dim in range(x.shape[2]):\n",
    "            time_warp = CubicSpline(warp_steps[:,dim], warp_steps[:,dim] * random_warps[i,:,dim])(orig_steps)\n",
    "            scale = (x.shape[1]-1)/time_warp[-1]\n",
    "            ret[i,:,dim] = np.interp(orig_steps, np.clip(scale*time_warp, 0, x.shape[1]-1), pat[:,dim]).T\n",
    "    return ret\n",
    "\n",
    "\n",
    "def spec_augment(mel_spectrogram, time_warping_para=1, frequency_masking_para=27,\n",
    "                 time_masking_para=100, frequency_mask_num=1, time_mask_num=1):\n",
    "    \"\"\"Spec augmentation Calculation Function.\n",
    "    'SpecAugment' have 3 steps for audio data augmentation.\n",
    "    first step is time warping using Tensorflow's image_sparse_warp function.\n",
    "    Second step is frequency masking, last step is time masking.\n",
    "    # Arguments:\n",
    "      mel_spectrogram(numpy array): audio file path of you want to warping and masking.\n",
    "      time_warping_para(float): Augmentation parameter, \"time warp parameter W\".\n",
    "        If none, default = 80 for LibriSpeech.\n",
    "      frequency_masking_para(float): Augmentation parameter, \"frequency mask parameter F\"\n",
    "        If none, default = 100 for LibriSpeech.\n",
    "      time_masking_para(float): Augmentation parameter, \"time mask parameter T\"\n",
    "        If none, default = 27 for LibriSpeech.\n",
    "      frequency_mask_num(float): number of frequency masking lines, \"m_F\".\n",
    "        If none, default = 1 for LibriSpeech.\n",
    "      time_mask_num(float): number of time masking lines, \"m_T\".\n",
    "        If none, default = 1 for LibriSpeech.\n",
    "    # Returns\n",
    "      mel_spectrogram(numpy array): warped and masked mel spectrogram.\n",
    "    \"\"\"\n",
    "    v = mel_spectrogram.shape[1]\n",
    "    tau = mel_spectrogram.shape[2]\n",
    "\n",
    "    # Step 1 : Time warping\n",
    "    warped_mel_spectrogram = time_warp(mel_spectrogram.transpose(0,2,1)).transpose(0,2,1)\n",
    "\n",
    "    # Step 2 : Frequency masking\n",
    "    for i in range(frequency_mask_num):\n",
    "        f = np.random.uniform(low=1.0, high=v/3)\n",
    "        f = int(f)\n",
    "        f0 = random.randint(0, v-f)\n",
    "        warped_mel_spectrogram[:, f0:f0+f, :] = 0\n",
    "\n",
    "    # Step 3 : Time masking\n",
    "    for i in range(time_mask_num):\n",
    "        t = np.random.uniform(low=1, high=tau/6)\n",
    "        t = int(t)\n",
    "        t0 = random.randint(0, tau-t)\n",
    "        warped_mel_spectrogram[:, :, t0:t0+t] = 0\n",
    "\n",
    "    return warped_mel_spectrogram"
   ]
  },
  {
   "cell_type": "code",
   "execution_count": 185,
   "id": "8563ff31",
   "metadata": {},
   "outputs": [],
   "source": [
    "#------------------------------------------------"
   ]
  },
  {
   "cell_type": "code",
   "execution_count": 186,
   "id": "0f049316",
   "metadata": {},
   "outputs": [],
   "source": [
    "# WAVE AUGMENT\n",
    "def jitter(x, sigma=0.01):\n",
    "    return x + np.random.normal(loc=0., scale=sigma, size=x.shape)\n",
    "\n",
    "def scaling(x, sigma=0.1):\n",
    "    factor = np.random.normal(loc=1., scale=sigma, size=x.shape)\n",
    "    return np.multiply(x, factor)"
   ]
  },
  {
   "cell_type": "code",
   "execution_count": 187,
   "id": "7b342b09",
   "metadata": {},
   "outputs": [],
   "source": [
    "#------------------------------------------------"
   ]
  },
  {
   "cell_type": "code",
   "execution_count": 188,
   "id": "4fd920cf",
   "metadata": {},
   "outputs": [],
   "source": [
    "# change the dataloader, preprocess\n",
    "# pre-processing data\n",
    "def preprocess_data_aug(data, k_size, bool_spec=False, bool_wave=False):\n",
    "    all_data = []\n",
    "    for i in range(len(data)):\n",
    "        gt = data[\"label\"].iloc[i]\n",
    "        \n",
    "        filename = data[\"file\"].iloc[i]\n",
    "        x, sr = librosa.load(filename, sr = SAMPLING_RATE)\n",
    "        ori_x = x\n",
    "        \n",
    "        # wave augmentation\n",
    "        if bool_wave:\n",
    "            x = jitter(x)\n",
    "            x = scaling(x)\n",
    "        \n",
    "        melspectrogram = extract_melspectrogram(x, sr, num_mels=k_size)         # returns K x T matrix (numpy?)\n",
    "        ori = melspectrogram\n",
    "        \n",
    "        #spec augmentation\n",
    "        if bool_spec:\n",
    "            melspectrogram = spec_augment(np.expand_dims(melspectrogram,0))\n",
    "            melspectrogram = melspectrogram.squeeze()\n",
    "        \n",
    "        #append data\n",
    "        d = {\"x\":torch.Tensor(x), \"ori_x\":torch.Tensor(ori_x),\n",
    "             \"ori\":torch.Tensor(ori).T, \"input\":torch.Tensor(melspectrogram).T,\n",
    "             \"label\":gt}\n",
    "        all_data.append(d)\n",
    "    return all_data"
   ]
  },
  {
   "cell_type": "code",
   "execution_count": 189,
   "id": "56fa4ebe",
   "metadata": {},
   "outputs": [],
   "source": [
    "# data loader --- train -- george, dev and test -- all users\n",
    "train_mask = (sdr_df['split'] == \"TRAIN\") & (sdr_df['speaker']=='george')\n",
    "train_files = sdr_df[train_mask]\n",
    "train_dataset = preprocess_data_aug(train_files, k_size=K_SIZE, bool_spec=True)\n",
    "train_loader = DataLoader(train_dataset, batch_size=1, shuffle=True)  # NOTE: batch size must be \"1\",samples are varying length\n",
    "# print(len(train_dataset))\n",
    "\n",
    "dev_mask = sdr_df['split'] == \"DEV\"\n",
    "dev_files = sdr_df[dev_mask]\n",
    "dev_dataset = preprocess_data_aug(dev_files, k_size=K_SIZE)\n",
    "dev_loader = DataLoader(dev_dataset, batch_size=1, shuffle=True)\n",
    "\n",
    "test_mask = sdr_df['split'] == \"TEST\"\n",
    "test_files = sdr_df[test_mask]\n",
    "test_dataset = preprocess_data_aug(test_files, k_size=K_SIZE)\n",
    "test_loader = DataLoader(test_dataset, batch_size=1, shuffle=True)"
   ]
  },
  {
   "cell_type": "code",
   "execution_count": 190,
   "id": "48dd6d22",
   "metadata": {},
   "outputs": [],
   "source": [
    "filters = [32, 64, 128, 1024]\n",
    "cnn_model = temporal1DConv(K_SIZE, filters, NUM_CLASSES).to(DEVICE)\n",
    "cnn_model.apply(weights_init)\n",
    "train_loss, train_acc, val_loss, val_acc = train(cnn_model, train_loader, dev_loader, \"adam\", 1e-3, 1e-3, \"cross\", 20)"
   ]
  },
  {
   "cell_type": "code",
   "execution_count": 191,
   "id": "08de5830",
   "metadata": {},
   "outputs": [],
   "source": [
    "test_acc = test(cnn_model, test_loader)"
   ]
  },
  {
   "cell_type": "code",
   "execution_count": 192,
   "id": "e895e59d",
   "metadata": {},
   "outputs": [
    {
     "name": "stdout",
     "output_type": "stream",
     "text": [
      "[tensor([0.0920], device='cuda:0'), tensor([0.1640], device='cuda:0'), tensor([0.1540], device='cuda:0'), tensor([0.2420], device='cuda:0'), tensor([0.2880], device='cuda:0'), tensor([0.3300], device='cuda:0'), tensor([0.4180], device='cuda:0'), tensor([0.4420], device='cuda:0'), tensor([0.5100], device='cuda:0'), tensor([0.5720], device='cuda:0'), tensor([0.5920], device='cuda:0'), tensor([0.5940], device='cuda:0'), tensor([0.6480], device='cuda:0'), tensor([0.7120], device='cuda:0'), tensor([0.6460], device='cuda:0'), tensor([0.6820], device='cuda:0'), tensor([0.7500], device='cuda:0'), tensor([0.7420], device='cuda:0'), tensor([0.7620], device='cuda:0'), tensor([0.7720], device='cuda:0')]\n",
      "-------------------------\n",
      "[tensor([0.0885], device='cuda:0'), tensor([0.1469], device='cuda:0'), tensor([0.1087], device='cuda:0'), tensor([0.1147], device='cuda:0'), tensor([0.2334], device='cuda:0'), tensor([0.2032], device='cuda:0'), tensor([0.1851], device='cuda:0'), tensor([0.2394], device='cuda:0'), tensor([0.3018], device='cuda:0'), tensor([0.2978], device='cuda:0'), tensor([0.3783], device='cuda:0'), tensor([0.3380], device='cuda:0'), tensor([0.4406], device='cuda:0'), tensor([0.2938], device='cuda:0'), tensor([0.4004], device='cuda:0'), tensor([0.3662], device='cuda:0'), tensor([0.4185], device='cuda:0'), tensor([0.3602], device='cuda:0'), tensor([0.2978], device='cuda:0'), tensor([0.3058], device='cuda:0')]\n",
      "-------------------------\n",
      "tensor([0.3082], device='cuda:0')\n"
     ]
    }
   ],
   "source": [
    "print(train_acc)\n",
    "print(\"-------------------------\")\n",
    "print(val_acc)\n",
    "print(\"-------------------------\")\n",
    "print(test_acc)"
   ]
  },
  {
   "cell_type": "code",
   "execution_count": 193,
   "id": "a44e8e09",
   "metadata": {},
   "outputs": [
    {
     "data": {
      "image/png": "[encoded data removed]",
      "text/plain": [
       "<Figure size 720x288 with 2 Axes>"
      ]
     },
     "metadata": {
      "needs_background": "light"
     },
     "output_type": "display_data"
    }
   ],
   "source": [
    "# plot and view the spectrogram\n",
    "fig, ax = plt.subplots(2, 1, figsize=(10, 4))\n",
    "img = librosa.display.specshow(\n",
    "    np.array(train_dataset[17][\"ori\"]).T, \n",
    "    sr=sr, \n",
    "    x_axis='time', \n",
    "    y_axis='mel', \n",
    "    cmap='viridis', \n",
    "    fmax=4000, \n",
    "    hop_length=80,\n",
    "    ax = ax[0]\n",
    ")\n",
    "ax[0].set(title='Original')\n",
    "ax[0].label_outer()\n",
    "\n",
    "img = librosa.display.specshow(\n",
    "    np.array(train_dataset[17][\"input\"]).T, \n",
    "    sr=sr, \n",
    "    x_axis='time', \n",
    "    y_axis='mel', \n",
    "    cmap='viridis', \n",
    "    fmax=4000, \n",
    "    hop_length=80,\n",
    "    ax = ax[1]\n",
    ")\n",
    "ax[1].set(title='Spec-Augmented')\n",
    "ax[1].label_outer()"
   ]
  },
  {
   "cell_type": "code",
   "execution_count": 194,
   "id": "38bc5890",
   "metadata": {},
   "outputs": [
    {
     "data": {
      "image/png": "[encoded data removed]",
      "text/plain": [
       "<Figure size 720x432 with 2 Axes>"
      ]
     },
     "metadata": {
      "needs_background": "light"
     },
     "output_type": "display_data"
    }
   ],
   "source": [
    "# plot and view the wavform\n",
    "fig, ax = plt.subplots(2, 1, figsize=(10, 6), sharex=True)\n",
    "\n",
    "img = librosa.display.waveshow(y=np.array(train_dataset[16][\"ori_x\"]), sr=sr, alpha=0.75, x_axis='time', color='blue', ax=ax[0])\n",
    "ax[0].set(title='Original')\n",
    "ax[0].set_ylabel('Amplitude')\n",
    "ax[0].label_outer()\n",
    "\n",
    "img = librosa.display.waveshow(y=np.array(train_dataset[16][\"x\"]), sr=sr, alpha=0.75, x_axis='time', color='blue', ax=ax[1])\n",
    "ax[1].set(title='Wave Augmented')\n",
    "ax[1].set_ylabel('Amplitude')\n",
    "ax[1].label_outer()"
   ]
  },
  {
   "cell_type": "code",
   "execution_count": null,
   "id": "a72468e5",
   "metadata": {},
   "outputs": [],
   "source": []
  },
  {
   "cell_type": "code",
   "execution_count": 61,
   "id": "3669da38",
   "metadata": {},
   "outputs": [],
   "source": [
    "#contrastive learning"
   ]
  },
  {
   "cell_type": "code",
   "execution_count": 195,
   "id": "acb793b6",
   "metadata": {},
   "outputs": [],
   "source": [
    "from torchvision import datasets, transforms\n",
    "import torch.nn.functional as F"
   ]
  },
  {
   "cell_type": "code",
   "execution_count": 387,
   "id": "82eb3bff",
   "metadata": {},
   "outputs": [],
   "source": [
    "class contrastiveModel(nn.Module):\n",
    "    def __init__(self, in_size, filters, out_size):\n",
    "        '''\n",
    "        in_size: is same as k\n",
    "        '''\n",
    "        super(contrastiveModel, self).__init__()\n",
    "        \n",
    "        layes=[]\n",
    "        layes.append(nn.Conv1d(in_size, filters[0], 3, padding=1, padding_mode='reflect'))\n",
    "        for i in range(len(filters)-1):\n",
    "            layes.append( nn.Conv1d(filters[i], filters[i+1], 3, padding=1, padding_mode='reflect') )\n",
    "            layes.append( nn.ReLU())\n",
    "        self.layers = nn.Sequential(*layes)\n",
    "        \n",
    "        self.linears = nn.Sequential( nn.Linear(filters[-1], 256), nn.ReLU(), nn.Linear(256, 128) )\n",
    "    \n",
    "    def forward(self, x):\n",
    "        x = x.permute(0,2,1)\n",
    "        out = self.layers(x)\n",
    "        out = torch.max(out, 2).values\n",
    "        out = self.linears(out)\n",
    "        return out"
   ]
  },
  {
   "cell_type": "code",
   "execution_count": 2,
   "id": "3251018f",
   "metadata": {},
   "outputs": [],
   "source": [
    "def preprocess_data_cont(data, k_size, bool_spec=True, bool_wave=False):\n",
    "    all_data = []\n",
    "    for i in range(len(data)):\n",
    "        gt = data[\"label\"].iloc[i]\n",
    "        \n",
    "        filename = data[\"file\"].iloc[i]\n",
    "        x, sr = librosa.load(filename, sr = SAMPLING_RATE)\n",
    "        \n",
    "        melspectrogram = extract_melspectrogram(x, sr, num_mels=k_size)         # returns K x T matrix (numpy?)\n",
    "        \n",
    "        #setting n_views = 2, hardcoding\n",
    "        mel1 = spec_augment(np.expand_dims(melspectrogram,0))\n",
    "        mel1 = torch.Tensor(mel1).permute(0,2,1)\n",
    "        \n",
    "        mel2 = spec_augment(np.expand_dims(melspectrogram,0))\n",
    "        mel2 = torch.Tensor(mel2).permute(0,2,1)\n",
    "        \n",
    "        # concatenate\n",
    "        mel = torch.cat( (mel1, mel2), 0 )\n",
    "        \n",
    "        #append data\n",
    "        d = {\"input\":mel, \"label\":torch.Tensor( (gt, gt) )}\n",
    "        all_data.append(d)\n",
    "    return all_data"
   ]
  },
  {
   "cell_type": "code",
   "execution_count": 389,
   "id": "acf70b91",
   "metadata": {},
   "outputs": [],
   "source": [
    "def info_nce_loss(features):\n",
    "\n",
    "    labels = torch.cat([torch.arange(64) for i in range(2)], dim=0)\n",
    "    labels = (labels.unsqueeze(0) == labels.unsqueeze(1)).float()\n",
    "    labels = labels.to(DEVICE)\n",
    "\n",
    "    features = F.normalize(features, dim=1)\n",
    "\n",
    "    similarity_matrix = torch.matmul(features, features.T)\n",
    "    # assert similarity_matrix.shape == (\n",
    "    #     self.args.n_views * self.args.batch_size, self.args.n_views * self.args.batch_size)\n",
    "    # assert similarity_matrix.shape == labels.shape\n",
    "\n",
    "    # discard the main diagonal from both: labels and similarities matrix\n",
    "    mask = torch.eye(labels.shape[0], dtype=torch.bool).to(DEVICE)\n",
    "    labels = labels[~mask].view(labels.shape[0], -1)\n",
    "    similarity_matrix = similarity_matrix[~mask].view(similarity_matrix.shape[0], -1)\n",
    "    # assert similarity_matrix.shape == labels.shape\n",
    "\n",
    "    # select and combine multiple positives\n",
    "    positives = similarity_matrix[labels.bool()].view(labels.shape[0], -1)\n",
    "\n",
    "    # select only the negatives the negatives\n",
    "    negatives = similarity_matrix[~labels.bool()].view(similarity_matrix.shape[0], -1)\n",
    "\n",
    "    logits = torch.cat([positives, negatives], dim=1)\n",
    "    labels = torch.zeros(logits.shape[0], dtype=torch.long).to(DEVICE)\n",
    "\n",
    "    logits = logits / 0.07\n",
    "    return logits, labels"
   ]
  },
  {
   "cell_type": "code",
   "execution_count": 390,
   "id": "7c972af8",
   "metadata": {},
   "outputs": [],
   "source": [
    "def accuracy_met(output, target, topk=(1,)):\n",
    "    \"\"\"Computes the accuracy over the k top predictions for the specified values of k\"\"\"\n",
    "    with torch.no_grad():\n",
    "        maxk = max(topk)\n",
    "        batch_size = target.size(0)\n",
    "\n",
    "        _, pred = output.topk(maxk, 1, True, True)\n",
    "        pred = pred.t()\n",
    "        correct = pred.eq(target.view(1, -1).expand_as(pred))\n",
    "\n",
    "        res = []\n",
    "        for k in topk:\n",
    "            correct_k = correct[:k].reshape(-1).float().sum(0, keepdim=True)\n",
    "            res.append(correct_k.mul_(100.0 / batch_size))\n",
    "        return res"
   ]
  },
  {
   "cell_type": "code",
   "execution_count": 391,
   "id": "3ff3021d",
   "metadata": {},
   "outputs": [],
   "source": [
    "def train_cont(model, train_loader, lr, reg, epochs):\n",
    "    \n",
    "    # optimiser\n",
    "    opt = optim.Adam(model.parameters(), lr=lr, weight_decay=reg)\n",
    "        \n",
    "    # loss function\n",
    "    loss = torch.nn.CrossEntropyLoss()\n",
    "    all_s = []\n",
    "    for epoch in range(epochs):\n",
    "        for i,data in enumerate(train_loader):\n",
    "            inp = data[\"input\"].squeeze().to(DEVICE)\n",
    "            label = data[\"label\"].to(DEVICE)\n",
    "\n",
    "            out = model(inp)\n",
    "        \n",
    "            if((i%64==0) and i!=0):\n",
    "                all_outs = torch.cat( (all_outs, out), dim=0)\n",
    "                logits, labels = info_nce_loss(all_outs)\n",
    "                lossval = loss(logits, labels)\n",
    "                lossval.backward()\n",
    "                opt.step()\n",
    "                opt.zero_grad()\n",
    "            elif((i%64==1) or i==0):\n",
    "                all_outs = out\n",
    "            else:\n",
    "                all_outs = torch.cat( (all_outs, out), dim=0)\n",
    "        \n",
    "        top1, top5 = accuracy_met(logits, labels, topk=(1, 5))\n",
    "        all_s.append(top5[0])\n",
    "    return all_s"
   ]
  },
  {
   "cell_type": "code",
   "execution_count": 392,
   "id": "9e5b4569",
   "metadata": {},
   "outputs": [],
   "source": [
    "# data loader --- train -- george, dev and test -- all users\n",
    "train_mask = (sdr_df['split'] == \"TRAIN\") & (sdr_df['speaker']=='george')\n",
    "train_files = sdr_df[train_mask]\n",
    "train_dataset = preprocess_data_cont(train_files, k_size=K_SIZE, bool_spec=True)\n",
    "train_loader = DataLoader(train_dataset, batch_size=1, shuffle=True)  # NOTE: batch size must be \"1\",samples are varying length\n",
    "# print(len(train_dataset))\n",
    "\n",
    "dev_mask = sdr_df['split'] == \"DEV\"\n",
    "dev_files = sdr_df[dev_mask]\n",
    "dev_dataset = preprocess_data_cont(dev_files, k_size=K_SIZE)\n",
    "dev_loader = DataLoader(dev_dataset, batch_size=1, shuffle=True)\n",
    "\n",
    "test_mask = sdr_df['split'] == \"TEST\"\n",
    "test_files = sdr_df[test_mask]\n",
    "test_dataset = preprocess_data_cont(test_files, k_size=K_SIZE)\n",
    "test_loader = DataLoader(test_dataset, batch_size=1, shuffle=True)"
   ]
  },
  {
   "cell_type": "code",
   "execution_count": 393,
   "id": "0b472a0e",
   "metadata": {},
   "outputs": [],
   "source": [
    "filters = [32, 64, 128, 512]\n",
    "cont_model = contrastiveModel(K_SIZE, filters, NUM_CLASSES).to(DEVICE)\n",
    "aaaa = train_cont(cont_model, train_loader, 1e-3, 0, 10)"
   ]
  },
  {
   "cell_type": "code",
   "execution_count": 394,
   "id": "1a84902a",
   "metadata": {},
   "outputs": [
    {
     "data": {
      "text/plain": [
       "[tensor(7.8125, device='cuda:0'),\n",
       " tensor(1.5625, device='cuda:0'),\n",
       " tensor(9.3750, device='cuda:0'),\n",
       " tensor(3.1250, device='cuda:0'),\n",
       " tensor(0., device='cuda:0'),\n",
       " tensor(4.6875, device='cuda:0'),\n",
       " tensor(6.2500, device='cuda:0'),\n",
       " tensor(0.7812, device='cuda:0'),\n",
       " tensor(6.2500, device='cuda:0'),\n",
       " tensor(4.6875, device='cuda:0')]"
      ]
     },
     "execution_count": 394,
     "metadata": {},
     "output_type": "execute_result"
    }
   ],
   "source": [
    "aaaa"
   ]
  },
  {
   "cell_type": "code",
   "execution_count": 326,
   "id": "95abe21a",
   "metadata": {},
   "outputs": [],
   "source": [
    "class simpleMLP(nn.Module):\n",
    "    def __init__(self):\n",
    "        super().__init__()\n",
    "        self.linear1 = nn.Linear(13*25, 64)\n",
    "        self.a1 = nn.ReLU()\n",
    "        self.linear2 = nn.Linear(64,10)\n",
    "        self.a2 = nn.Softmax()\n",
    "    \n",
    "    def forward(self,x):\n",
    "        x = self.linear1(x)\n",
    "        x = self.a1(x)\n",
    "        x = self.linear2(x)\n",
    "        x = self.a2(x)\n",
    "        return x"
   ]
  },
  {
   "cell_type": "code",
   "execution_count": null,
   "id": "8e170b18",
   "metadata": {},
   "outputs": [],
   "source": [
    "def train_finetune(model_fine, model_pre, train_loader, val_loader, lr, reg, epochs):\n",
    "    M = len(train_loader.dataset)\n",
    "    M_v = len(val_loader.dataset)\n",
    "    \n",
    "    # optimiser\n",
    "    opt = optim.Adam(model_fine.parameters(), lr=lr, weight_decay=reg)\n",
    "        \n",
    "    # loss function\n",
    "    loss = torch.nn.CrossEntropyLoss()\n",
    "    \n",
    "    train_loss=[]\n",
    "    train_acc=[]\n",
    "    val_acc=[]\n",
    "    val_loss=[]\n",
    "    for epoch in range(epochs):\n",
    "        epoch_loss = 0\n",
    "        epoch_acc = 0\n",
    "        #capture accuracy and loss curves\n",
    "        for i,data in enumerate(train_loader):\n",
    "            inp = data[\"input\"].squeeze().to(DEVICE)\n",
    "            label = data[\"label\"].squeeze().type(torch.LongTensor).to(DEVICE)\n",
    "            \n",
    "            coarse_out = model_pre(inp)\n",
    "            \n",
    "            # zero out previous gradient? SHOULD I?\n",
    "            opt.zero_grad()\n",
    "\n",
    "            # forward pass\n",
    "            out = model_fine(coarse_out)\n",
    "\n",
    "            #get loss\n",
    "            lossval = loss(out, label)\n",
    "\n",
    "            #perform backprop\n",
    "            lossval.backward()\n",
    "\n",
    "            #update the weights\n",
    "            opt.step()\n",
    "\n",
    "            #get accuracy and loss value\n",
    "            epoch_loss += lossval.item()\n",
    "            epoch_acc += sum( torch.argmax(out,1)==label )        #NOTE: Only works when batch size=1\n",
    "        \n",
    "        #update overall acc and epoch\n",
    "        train_loss.append(epoch_loss/M)\n",
    "        train_acc.append(epoch_acc/M)\n",
    "        \n",
    "        with torch.no_grad():\n",
    "            epoch_loss=0\n",
    "            epoch_acc=0\n",
    "            for i,data in enumerate(val_loader):\n",
    "                inp = data[\"input\"].squeeze().to(DEVICE)\n",
    "                label = data[\"label\"].squeeze().type(torch.LongTensor).to(DEVICE)\n",
    "                \n",
    "                coarse_out = model_pre(inp)\n",
    "                out=model_fine(coarse_out)\n",
    "                lossval = loss(out, label)\n",
    "                \n",
    "                epoch_loss+=lossval.item()\n",
    "                epoch_acc+= sum(torch.argmax(out,1) == label)\n",
    "        \n",
    "        val_loss.append(epoch_loss/M_v)\n",
    "        val_acc.append(epoch_acc/M_v)\n",
    "        \n",
    "    return train_loss, train_acc, val_loss, val_acc"
   ]
  },
  {
   "cell_type": "code",
   "execution_count": null,
   "id": "505b817e",
   "metadata": {},
   "outputs": [],
   "source": [
    "# write the evaluation loop\n",
    "def test_finetune(model_fine, model_pre, test_loader):\n",
    "    test_acc=0\n",
    "    test_loss=0\n",
    "    \n",
    "    with torch.no_grad():\n",
    "        for i,data in enumerate(test_loader):\n",
    "            inp = data[\"input\"].squeeze().to(DEVICE)\n",
    "            label = data[\"label\"].squeeze().to(DEVICE)\n",
    "\n",
    "            # forward pass\n",
    "            coarse_out = model_pre(inp)\n",
    "            out = model_fine(coarse_out)\n",
    "\n",
    "            test_acc+= sum( torch.argmax(out,1)==label )\n",
    "    return test_acc/len(test_loader.dataset)"
   ]
  },
  {
   "cell_type": "code",
   "execution_count": null,
   "id": "e0471ff9",
   "metadata": {
    "scrolled": true
   },
   "outputs": [],
   "source": [
    "finetune_model = simpleMLP().to(DEVICE)\n",
    "train_loss, train_acc, val_loss, val_acc = train_finetune(finetune_model, cont_model, train_loader, dev_loader, 1e-4, 1e-2, 10)"
   ]
  },
  {
   "cell_type": "code",
   "execution_count": null,
   "id": "174832c2",
   "metadata": {},
   "outputs": [],
   "source": [
    "test_acc = test_finetune(finetune_model, cont_model, test_loader)"
   ]
  },
  {
   "cell_type": "code",
   "execution_count": 383,
   "id": "b70c1fc6",
   "metadata": {},
   "outputs": [
    {
     "name": "stdout",
     "output_type": "stream",
     "text": [
      "[tensor([0.1600], device='cuda:0'), tensor([0.4220], device='cuda:0'), tensor([0.6930], device='cuda:0'), tensor([0.7855], device='cuda:0'), tensor([0.8380], device='cuda:0'), tensor([0.8575], device='cuda:0'), tensor([0.8920], device='cuda:0'), tensor([0.9020], device='cuda:0'), tensor([0.9180], device='cuda:0'), tensor([0.9150], device='cuda:0')]\n",
      "-------------------------\n",
      "[tensor([0.1851], device='cuda:0'), tensor([0.4427], device='cuda:0'), tensor([0.3139], device='cuda:0'), tensor([0.5010], device='cuda:0'), tensor([0.5352], device='cuda:0'), tensor([0.4789], device='cuda:0'), tensor([0.5191], device='cuda:0'), tensor([0.5674], device='cuda:0'), tensor([0.6559], device='cuda:0'), tensor([0.5030], device='cuda:0')]\n",
      "-------------------------\n",
      "tensor([0.4950], device='cuda:0')\n"
     ]
    }
   ],
   "source": [
    "print(train_acc)\n",
    "print(\"-------------------------\")\n",
    "print(val_acc)\n",
    "print(\"-------------------------\")\n",
    "print(test_acc)"
   ]
  },
  {
   "cell_type": "code",
   "execution_count": null,
   "id": "2c683f12",
   "metadata": {},
   "outputs": [],
   "source": []
  }
 ],
 "metadata": {
  "colab": {
   "provenance": []
  },
  "kernelspec": {
   "display_name": "Python 3 (ipykernel)",
   "language": "python",
   "name": "python3"
  },
  "language_info": {
   "codemirror_mode": {
    "name": "ipython",
    "version": 3
   },
   "file_extension": ".py",
   "mimetype": "text/x-python",
   "name": "python",
   "nbconvert_exporter": "python",
   "pygments_lexer": "ipython3",
   "version": "3.9.2"
  }
 },
 "nbformat": 4,
 "nbformat_minor": 5
}
